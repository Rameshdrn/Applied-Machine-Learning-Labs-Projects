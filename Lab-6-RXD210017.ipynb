{
 "cells": [
  {
   "cell_type": "markdown",
   "id": "62834763",
   "metadata": {},
   "source": [
    "# Lab-6 Template\n",
    "\n",
    "Answer questions in the designated cells\n",
    "\n",
    "H2O GBM tuning guide:  \n",
    "https://github.com/h2oai/h2o-3/blob/master/h2o-docs/src/product/tutorials/gbm/gbmTuning.ipynb"
   ]
  },
  {
   "cell_type": "markdown",
   "id": "a0c9b618",
   "metadata": {},
   "source": [
    "## Preparation\n",
    "\n",
    "Use dataset provided in the eLearning"
   ]
  },
  {
   "cell_type": "code",
   "execution_count": 1,
   "id": "3ca7e035",
   "metadata": {},
   "outputs": [
    {
     "data": {
      "text/html": [
       "<style>.container { width:80% !important; }</style>"
      ],
      "text/plain": [
       "<IPython.core.display.HTML object>"
      ]
     },
     "metadata": {},
     "output_type": "display_data"
    }
   ],
   "source": [
    "import pandas as pd\n",
    "pd.set_option('display.max_columns', 1500)\n",
    "\n",
    "import warnings\n",
    "warnings.filterwarnings('ignore')\n",
    "\n",
    "#Extend cell width\n",
    "from IPython.core.display import display, HTML\n",
    "display(HTML(\"<style>.container { width:80% !important; }</style>\"))"
   ]
  },
  {
   "cell_type": "code",
   "execution_count": 2,
   "id": "b1b29368",
   "metadata": {},
   "outputs": [],
   "source": [
    "#Run once\n",
    "#!pip install category_encoders\n",
    "from category_encoders.target_encoder import TargetEncoder"
   ]
  },
  {
   "cell_type": "markdown",
   "id": "cee2c254",
   "metadata": {},
   "source": [
    "### Load data"
   ]
  },
  {
   "cell_type": "code",
   "execution_count": 3,
   "id": "a19bd163",
   "metadata": {},
   "outputs": [],
   "source": [
    "#train_df = pd.read_csv('SBA_loans_small.zip')\n",
    "X_train = pd.read_csv('SBA_loans_train.csv')\n",
    "X_test  = pd.read_csv('SBA_loans_test.csv')"
   ]
  },
  {
   "cell_type": "code",
   "execution_count": 4,
   "id": "052d0c31",
   "metadata": {},
   "outputs": [
    {
     "data": {
      "text/html": [
       "<div>\n",
       "<style scoped>\n",
       "    .dataframe tbody tr th:only-of-type {\n",
       "        vertical-align: middle;\n",
       "    }\n",
       "\n",
       "    .dataframe tbody tr th {\n",
       "        vertical-align: top;\n",
       "    }\n",
       "\n",
       "    .dataframe thead th {\n",
       "        text-align: right;\n",
       "    }\n",
       "</style>\n",
       "<table border=\"1\" class=\"dataframe\">\n",
       "  <thead>\n",
       "    <tr style=\"text-align: right;\">\n",
       "      <th></th>\n",
       "      <th>City</th>\n",
       "      <th>State</th>\n",
       "      <th>Zip</th>\n",
       "      <th>Bank</th>\n",
       "      <th>BankState</th>\n",
       "      <th>NAICS</th>\n",
       "      <th>Term</th>\n",
       "      <th>NoEmp</th>\n",
       "      <th>NewExist</th>\n",
       "      <th>CreateJob</th>\n",
       "      <th>RetainedJob</th>\n",
       "      <th>FranchiseCode</th>\n",
       "      <th>UrbanRural</th>\n",
       "      <th>RevLineCr</th>\n",
       "      <th>LowDoc</th>\n",
       "      <th>DisbursementGross</th>\n",
       "      <th>BalanceGross</th>\n",
       "      <th>GrAppv</th>\n",
       "      <th>SBA_Appv</th>\n",
       "      <th>Defaulted</th>\n",
       "    </tr>\n",
       "  </thead>\n",
       "  <tbody>\n",
       "    <tr>\n",
       "      <th>0</th>\n",
       "      <td>Huntsville</td>\n",
       "      <td>AL</td>\n",
       "      <td>35811</td>\n",
       "      <td>BUSINESS LOAN CENTER, LLC</td>\n",
       "      <td>FL</td>\n",
       "      <td>621310</td>\n",
       "      <td>73</td>\n",
       "      <td>1</td>\n",
       "      <td>2.0</td>\n",
       "      <td>2</td>\n",
       "      <td>1</td>\n",
       "      <td>0</td>\n",
       "      <td>1</td>\n",
       "      <td>N</td>\n",
       "      <td>N</td>\n",
       "      <td>25000.0</td>\n",
       "      <td>0.0</td>\n",
       "      <td>25000.0</td>\n",
       "      <td>21250.0</td>\n",
       "      <td>1</td>\n",
       "    </tr>\n",
       "    <tr>\n",
       "      <th>1</th>\n",
       "      <td>SCOTTSDALE</td>\n",
       "      <td>AZ</td>\n",
       "      <td>85254</td>\n",
       "      <td>WELLS FARGO BANK NATL ASSOC</td>\n",
       "      <td>CA</td>\n",
       "      <td>0</td>\n",
       "      <td>84</td>\n",
       "      <td>3</td>\n",
       "      <td>2.0</td>\n",
       "      <td>0</td>\n",
       "      <td>0</td>\n",
       "      <td>0</td>\n",
       "      <td>0</td>\n",
       "      <td>N</td>\n",
       "      <td>N</td>\n",
       "      <td>52000.0</td>\n",
       "      <td>0.0</td>\n",
       "      <td>52000.0</td>\n",
       "      <td>46800.0</td>\n",
       "      <td>1</td>\n",
       "    </tr>\n",
       "    <tr>\n",
       "      <th>2</th>\n",
       "      <td>BANGOR</td>\n",
       "      <td>ME</td>\n",
       "      <td>4401</td>\n",
       "      <td>BANGOR SAVINGS BANK</td>\n",
       "      <td>ME</td>\n",
       "      <td>323110</td>\n",
       "      <td>84</td>\n",
       "      <td>9</td>\n",
       "      <td>1.0</td>\n",
       "      <td>0</td>\n",
       "      <td>0</td>\n",
       "      <td>1</td>\n",
       "      <td>1</td>\n",
       "      <td>0</td>\n",
       "      <td>Y</td>\n",
       "      <td>150000.0</td>\n",
       "      <td>0.0</td>\n",
       "      <td>150000.0</td>\n",
       "      <td>127500.0</td>\n",
       "      <td>0</td>\n",
       "    </tr>\n",
       "  </tbody>\n",
       "</table>\n",
       "</div>"
      ],
      "text/plain": [
       "         City State    Zip                         Bank BankState   NAICS  \\\n",
       "0  Huntsville    AL  35811    BUSINESS LOAN CENTER, LLC        FL  621310   \n",
       "1  SCOTTSDALE    AZ  85254  WELLS FARGO BANK NATL ASSOC        CA       0   \n",
       "2      BANGOR    ME   4401          BANGOR SAVINGS BANK        ME  323110   \n",
       "\n",
       "   Term  NoEmp  NewExist  CreateJob  RetainedJob  FranchiseCode  UrbanRural  \\\n",
       "0    73      1       2.0          2            1              0           1   \n",
       "1    84      3       2.0          0            0              0           0   \n",
       "2    84      9       1.0          0            0              1           1   \n",
       "\n",
       "  RevLineCr LowDoc  DisbursementGross  BalanceGross    GrAppv  SBA_Appv  \\\n",
       "0         N      N            25000.0           0.0   25000.0   21250.0   \n",
       "1         N      N            52000.0           0.0   52000.0   46800.0   \n",
       "2         0      Y           150000.0           0.0  150000.0  127500.0   \n",
       "\n",
       "   Defaulted  \n",
       "0          1  \n",
       "1          1  \n",
       "2          0  "
      ]
     },
     "execution_count": 4,
     "metadata": {},
     "output_type": "execute_result"
    }
   ],
   "source": [
    "X_train.head(n=3)"
   ]
  },
  {
   "cell_type": "code",
   "execution_count": 5,
   "id": "2301a5ed",
   "metadata": {},
   "outputs": [
    {
     "name": "stdout",
     "output_type": "stream",
     "text": [
      "Train shape: (337186, 20)\n",
      "Test shape: (112396, 20)\n"
     ]
    }
   ],
   "source": [
    "print(\"Train shape:\", X_train.shape)\n",
    "print(\"Test shape:\", X_test.shape)"
   ]
  },
  {
   "cell_type": "code",
   "execution_count": 6,
   "id": "2f8dba68",
   "metadata": {},
   "outputs": [
    {
     "name": "stdout",
     "output_type": "stream",
     "text": [
      "<class 'pandas.core.frame.DataFrame'>\n",
      "RangeIndex: 337186 entries, 0 to 337185\n",
      "Data columns (total 20 columns):\n",
      " #   Column             Non-Null Count   Dtype  \n",
      "---  ------             --------------   -----  \n",
      " 0   City               337177 non-null  object \n",
      " 1   State              337180 non-null  object \n",
      " 2   Zip                337186 non-null  int64  \n",
      " 3   Bank               336587 non-null  object \n",
      " 4   BankState          336583 non-null  object \n",
      " 5   NAICS              337186 non-null  int64  \n",
      " 6   Term               337186 non-null  int64  \n",
      " 7   NoEmp              337186 non-null  int64  \n",
      " 8   NewExist           337140 non-null  float64\n",
      " 9   CreateJob          337186 non-null  int64  \n",
      " 10  RetainedJob        337186 non-null  int64  \n",
      " 11  FranchiseCode      337186 non-null  int64  \n",
      " 12  UrbanRural         337186 non-null  int64  \n",
      " 13  RevLineCr          335483 non-null  object \n",
      " 14  LowDoc             336198 non-null  object \n",
      " 15  DisbursementGross  337186 non-null  float64\n",
      " 16  BalanceGross       337186 non-null  float64\n",
      " 17  GrAppv             337186 non-null  float64\n",
      " 18  SBA_Appv           337186 non-null  float64\n",
      " 19  Defaulted          337186 non-null  int64  \n",
      "dtypes: float64(5), int64(9), object(6)\n",
      "memory usage: 51.5+ MB\n"
     ]
    }
   ],
   "source": [
    "X_train.info()"
   ]
  },
  {
   "cell_type": "markdown",
   "id": "7bb0bfa4",
   "metadata": {},
   "source": [
    "# Prepare Dataset\n",
    "\n",
    "Replace missing values for all columns for both X_train and X_test.\n",
    "Replace Na's with zero for numerical variables and with \"Missing\" for categorical\n",
    "\n",
    "Encode Categorical variables using target encoder."
   ]
  },
  {
   "cell_type": "code",
   "execution_count": 7,
   "id": "c5fcdc63",
   "metadata": {},
   "outputs": [],
   "source": [
    "values_to_fill = {}\n",
    "for col in X_train.drop(columns=['Defaulted']).columns:\n",
    "    if X_train[col].dtype == 'object':\n",
    "        values_to_fill[col] = \"Missing\"\n",
    "    else:\n",
    "        values_to_fill[col] = 0\n",
    "\n",
    "X_train.fillna(value=values_to_fill,inplace=True)\n",
    "X_test.fillna(value=values_to_fill, inplace=True)\n",
    "\n",
    "cols_to_encode = []\n",
    "cat_encoders = {}\n",
    "for col in X_train.drop(columns=['Defaulted']).columns:\n",
    "  if X_train[col].dtype == 'object':\n",
    "    cols_to_encode.append(col)\n",
    "    \n",
    "#Add Zip to categoricals and convert to string in order to make encoder work\n",
    "cols_to_encode.append(\"Zip\")\n",
    "X_train[\"Zip\"] = X_train[\"Zip\"].apply(str)\n",
    "X_test[\"Zip\"] = X_test[\"Zip\"].apply(str)\n",
    "\n",
    "te = TargetEncoder()\n",
    "Y_tr = X_train[\"Defaulted\"]\n",
    "Y_tst = X_test[\"Defaulted\"]\n",
    "te.fit(X_train[cols_to_encode],Y_tr)\n",
    "\n",
    "X_train_te = te.transform(X_train[cols_to_encode])\n",
    "X_test_te = te.transform(X_test[cols_to_encode])\n",
    "\n",
    "new_col_names = [col+\"_te\" for col in cols_to_encode]\n",
    "X_train_te.columns = new_col_names\n",
    "X_test_te.columns = new_col_names\n",
    "\n",
    "X_tr = X_train_te.join(X_train)\n",
    "X_tst = X_test_te.join(X_test)\n",
    "\n",
    "X_tr.drop(columns=cols_to_encode+[\"Defaulted\"],inplace=True, axis=1)\n",
    "X_tst.drop(columns=cols_to_encode+[\"Defaulted\"],inplace=True, axis=1)"
   ]
  },
  {
   "cell_type": "code",
   "execution_count": 8,
   "id": "fe36a551",
   "metadata": {},
   "outputs": [
    {
     "data": {
      "text/html": [
       "<div>\n",
       "<style scoped>\n",
       "    .dataframe tbody tr th:only-of-type {\n",
       "        vertical-align: middle;\n",
       "    }\n",
       "\n",
       "    .dataframe tbody tr th {\n",
       "        vertical-align: top;\n",
       "    }\n",
       "\n",
       "    .dataframe thead th {\n",
       "        text-align: right;\n",
       "    }\n",
       "</style>\n",
       "<table border=\"1\" class=\"dataframe\">\n",
       "  <thead>\n",
       "    <tr style=\"text-align: right;\">\n",
       "      <th></th>\n",
       "      <th>City_te</th>\n",
       "      <th>State_te</th>\n",
       "      <th>Bank_te</th>\n",
       "      <th>BankState_te</th>\n",
       "      <th>RevLineCr_te</th>\n",
       "      <th>LowDoc_te</th>\n",
       "      <th>Zip_te</th>\n",
       "      <th>NAICS</th>\n",
       "      <th>Term</th>\n",
       "      <th>NoEmp</th>\n",
       "      <th>NewExist</th>\n",
       "      <th>CreateJob</th>\n",
       "      <th>RetainedJob</th>\n",
       "      <th>FranchiseCode</th>\n",
       "      <th>UrbanRural</th>\n",
       "      <th>DisbursementGross</th>\n",
       "      <th>BalanceGross</th>\n",
       "      <th>GrAppv</th>\n",
       "      <th>SBA_Appv</th>\n",
       "    </tr>\n",
       "  </thead>\n",
       "  <tbody>\n",
       "    <tr>\n",
       "      <th>0</th>\n",
       "      <td>0.380952</td>\n",
       "      <td>0.167744</td>\n",
       "      <td>0.308181</td>\n",
       "      <td>0.158105</td>\n",
       "      <td>0.146342</td>\n",
       "      <td>0.186457</td>\n",
       "      <td>0.347826</td>\n",
       "      <td>621310</td>\n",
       "      <td>73</td>\n",
       "      <td>1</td>\n",
       "      <td>2.0</td>\n",
       "      <td>2</td>\n",
       "      <td>1</td>\n",
       "      <td>0</td>\n",
       "      <td>1</td>\n",
       "      <td>25000.0</td>\n",
       "      <td>0.0</td>\n",
       "      <td>25000.0</td>\n",
       "      <td>21250.0</td>\n",
       "    </tr>\n",
       "    <tr>\n",
       "      <th>1</th>\n",
       "      <td>0.191919</td>\n",
       "      <td>0.200634</td>\n",
       "      <td>0.138341</td>\n",
       "      <td>0.221678</td>\n",
       "      <td>0.146342</td>\n",
       "      <td>0.186457</td>\n",
       "      <td>0.228916</td>\n",
       "      <td>0</td>\n",
       "      <td>84</td>\n",
       "      <td>3</td>\n",
       "      <td>2.0</td>\n",
       "      <td>0</td>\n",
       "      <td>0</td>\n",
       "      <td>0</td>\n",
       "      <td>0</td>\n",
       "      <td>52000.0</td>\n",
       "      <td>0.0</td>\n",
       "      <td>52000.0</td>\n",
       "      <td>46800.0</td>\n",
       "    </tr>\n",
       "    <tr>\n",
       "      <th>2</th>\n",
       "      <td>0.125984</td>\n",
       "      <td>0.096586</td>\n",
       "      <td>0.062500</td>\n",
       "      <td>0.076696</td>\n",
       "      <td>0.149252</td>\n",
       "      <td>0.090740</td>\n",
       "      <td>0.088889</td>\n",
       "      <td>323110</td>\n",
       "      <td>84</td>\n",
       "      <td>9</td>\n",
       "      <td>1.0</td>\n",
       "      <td>0</td>\n",
       "      <td>0</td>\n",
       "      <td>1</td>\n",
       "      <td>1</td>\n",
       "      <td>150000.0</td>\n",
       "      <td>0.0</td>\n",
       "      <td>150000.0</td>\n",
       "      <td>127500.0</td>\n",
       "    </tr>\n",
       "  </tbody>\n",
       "</table>\n",
       "</div>"
      ],
      "text/plain": [
       "    City_te  State_te   Bank_te  BankState_te  RevLineCr_te  LowDoc_te  \\\n",
       "0  0.380952  0.167744  0.308181      0.158105      0.146342   0.186457   \n",
       "1  0.191919  0.200634  0.138341      0.221678      0.146342   0.186457   \n",
       "2  0.125984  0.096586  0.062500      0.076696      0.149252   0.090740   \n",
       "\n",
       "     Zip_te   NAICS  Term  NoEmp  NewExist  CreateJob  RetainedJob  \\\n",
       "0  0.347826  621310    73      1       2.0          2            1   \n",
       "1  0.228916       0    84      3       2.0          0            0   \n",
       "2  0.088889  323110    84      9       1.0          0            0   \n",
       "\n",
       "   FranchiseCode  UrbanRural  DisbursementGross  BalanceGross    GrAppv  \\\n",
       "0              0           1            25000.0           0.0   25000.0   \n",
       "1              0           0            52000.0           0.0   52000.0   \n",
       "2              1           1           150000.0           0.0  150000.0   \n",
       "\n",
       "   SBA_Appv  \n",
       "0   21250.0  \n",
       "1   46800.0  \n",
       "2  127500.0  "
      ]
     },
     "execution_count": 8,
     "metadata": {},
     "output_type": "execute_result"
    }
   ],
   "source": [
    "X_tr.head(n=3)"
   ]
  },
  {
   "cell_type": "code",
   "execution_count": 9,
   "id": "cb9bbc16",
   "metadata": {},
   "outputs": [
    {
     "data": {
      "text/html": [
       "<div>\n",
       "<style scoped>\n",
       "    .dataframe tbody tr th:only-of-type {\n",
       "        vertical-align: middle;\n",
       "    }\n",
       "\n",
       "    .dataframe tbody tr th {\n",
       "        vertical-align: top;\n",
       "    }\n",
       "\n",
       "    .dataframe thead th {\n",
       "        text-align: right;\n",
       "    }\n",
       "</style>\n",
       "<table border=\"1\" class=\"dataframe\">\n",
       "  <thead>\n",
       "    <tr style=\"text-align: right;\">\n",
       "      <th></th>\n",
       "      <th>City_te</th>\n",
       "      <th>State_te</th>\n",
       "      <th>Bank_te</th>\n",
       "      <th>BankState_te</th>\n",
       "      <th>RevLineCr_te</th>\n",
       "      <th>LowDoc_te</th>\n",
       "      <th>Zip_te</th>\n",
       "      <th>NAICS</th>\n",
       "      <th>Term</th>\n",
       "      <th>NoEmp</th>\n",
       "      <th>NewExist</th>\n",
       "      <th>CreateJob</th>\n",
       "      <th>RetainedJob</th>\n",
       "      <th>FranchiseCode</th>\n",
       "      <th>UrbanRural</th>\n",
       "      <th>DisbursementGross</th>\n",
       "      <th>BalanceGross</th>\n",
       "      <th>GrAppv</th>\n",
       "      <th>SBA_Appv</th>\n",
       "    </tr>\n",
       "  </thead>\n",
       "  <tbody>\n",
       "    <tr>\n",
       "      <th>0</th>\n",
       "      <td>0.083335</td>\n",
       "      <td>0.224163</td>\n",
       "      <td>0.073593</td>\n",
       "      <td>0.222704</td>\n",
       "      <td>0.146342</td>\n",
       "      <td>0.090740</td>\n",
       "      <td>0.090913</td>\n",
       "      <td>0</td>\n",
       "      <td>84</td>\n",
       "      <td>1</td>\n",
       "      <td>2.0</td>\n",
       "      <td>0</td>\n",
       "      <td>0</td>\n",
       "      <td>1</td>\n",
       "      <td>0</td>\n",
       "      <td>42000.0</td>\n",
       "      <td>0.0</td>\n",
       "      <td>42000.0</td>\n",
       "      <td>33600.0</td>\n",
       "    </tr>\n",
       "    <tr>\n",
       "      <th>1</th>\n",
       "      <td>0.128531</td>\n",
       "      <td>0.149706</td>\n",
       "      <td>0.138341</td>\n",
       "      <td>0.175423</td>\n",
       "      <td>0.146342</td>\n",
       "      <td>0.186457</td>\n",
       "      <td>0.170732</td>\n",
       "      <td>0</td>\n",
       "      <td>84</td>\n",
       "      <td>7</td>\n",
       "      <td>1.0</td>\n",
       "      <td>0</td>\n",
       "      <td>0</td>\n",
       "      <td>1</td>\n",
       "      <td>0</td>\n",
       "      <td>15000.0</td>\n",
       "      <td>0.0</td>\n",
       "      <td>15000.0</td>\n",
       "      <td>13500.0</td>\n",
       "    </tr>\n",
       "    <tr>\n",
       "      <th>2</th>\n",
       "      <td>0.170213</td>\n",
       "      <td>0.224163</td>\n",
       "      <td>0.000000</td>\n",
       "      <td>0.222704</td>\n",
       "      <td>0.146342</td>\n",
       "      <td>0.186457</td>\n",
       "      <td>0.229167</td>\n",
       "      <td>0</td>\n",
       "      <td>240</td>\n",
       "      <td>19</td>\n",
       "      <td>1.0</td>\n",
       "      <td>15</td>\n",
       "      <td>0</td>\n",
       "      <td>1</td>\n",
       "      <td>0</td>\n",
       "      <td>497000.0</td>\n",
       "      <td>0.0</td>\n",
       "      <td>497000.0</td>\n",
       "      <td>497000.0</td>\n",
       "    </tr>\n",
       "  </tbody>\n",
       "</table>\n",
       "</div>"
      ],
      "text/plain": [
       "    City_te  State_te   Bank_te  BankState_te  RevLineCr_te  LowDoc_te  \\\n",
       "0  0.083335  0.224163  0.073593      0.222704      0.146342   0.090740   \n",
       "1  0.128531  0.149706  0.138341      0.175423      0.146342   0.186457   \n",
       "2  0.170213  0.224163  0.000000      0.222704      0.146342   0.186457   \n",
       "\n",
       "     Zip_te  NAICS  Term  NoEmp  NewExist  CreateJob  RetainedJob  \\\n",
       "0  0.090913      0    84      1       2.0          0            0   \n",
       "1  0.170732      0    84      7       1.0          0            0   \n",
       "2  0.229167      0   240     19       1.0         15            0   \n",
       "\n",
       "   FranchiseCode  UrbanRural  DisbursementGross  BalanceGross    GrAppv  \\\n",
       "0              1           0            42000.0           0.0   42000.0   \n",
       "1              1           0            15000.0           0.0   15000.0   \n",
       "2              1           0           497000.0           0.0  497000.0   \n",
       "\n",
       "   SBA_Appv  \n",
       "0   33600.0  \n",
       "1   13500.0  \n",
       "2  497000.0  "
      ]
     },
     "execution_count": 9,
     "metadata": {},
     "output_type": "execute_result"
    }
   ],
   "source": [
    "X_tst.head(n=3)"
   ]
  },
  {
   "cell_type": "code",
   "execution_count": 10,
   "id": "f57f71ed",
   "metadata": {},
   "outputs": [
    {
     "name": "stdout",
     "output_type": "stream",
     "text": [
      "Train shape: (337186, 19)\n",
      "Test shape: (112396, 19)\n"
     ]
    }
   ],
   "source": [
    "print(\"Train shape:\", X_tr.shape)\n",
    "print(\"Test shape:\", X_tst.shape)"
   ]
  },
  {
   "cell_type": "markdown",
   "id": "9525a1da",
   "metadata": {},
   "source": [
    "## Datasets for all questions\n",
    "\n",
    "For all questions, use X_tr and X_tst (after categorical variables encoding)."
   ]
  },
  {
   "cell_type": "code",
   "execution_count": 11,
   "id": "f76a7e08",
   "metadata": {},
   "outputs": [
    {
     "data": {
      "text/plain": [
       "0         1\n",
       "1         1\n",
       "2         0\n",
       "3         1\n",
       "4         0\n",
       "         ..\n",
       "337181    0\n",
       "337182    0\n",
       "337183    0\n",
       "337184    0\n",
       "337185    0\n",
       "Name: Defaulted, Length: 337186, dtype: int64"
      ]
     },
     "execution_count": 11,
     "metadata": {},
     "output_type": "execute_result"
    }
   ],
   "source": [
    "Y_tr"
   ]
  },
  {
   "cell_type": "markdown",
   "id": "bd38736a",
   "metadata": {},
   "source": [
    "## Question 1 - 2 points\n",
    "\n",
    "Train sklearn `GradientBoostingClassifier` with default parameters and `random_state=0`.\n",
    "Display:\n",
    "- AUC on Testing data\n",
    "- Accuracy on Testing data\n",
    "- Number of trees for the trained classifier"
   ]
  },
  {
   "cell_type": "code",
   "execution_count": 12,
   "id": "931bec64",
   "metadata": {},
   "outputs": [
    {
     "name": "stdout",
     "output_type": "stream",
     "text": [
      "AUC on testing data: 0.9505761225251513\n",
      "Accuracy on testing data: 0.919\n"
     ]
    }
   ],
   "source": [
    "from sklearn.ensemble import GradientBoostingClassifier\n",
    "from sklearn import metrics\n",
    "\n",
    "\n",
    "gbrt = GradientBoostingClassifier(random_state=0)\n",
    "gbrt.fit(X_tr, Y_tr)\n",
    "\n",
    "y_pred = gbrt.predict_proba(X_tst)[:, 1]\n",
    "auc = metrics.roc_auc_score(Y_tst, y_pred)\n",
    "\n",
    "\n",
    "print(\"AUC on testing data:\", auc)\n",
    "print(\"Accuracy on testing data: {:.3f}\".format(gbrt.score(X_tst, Y_tst)))"
   ]
  },
  {
   "cell_type": "code",
   "execution_count": 13,
   "id": "dd12925f",
   "metadata": {},
   "outputs": [
    {
     "data": {
      "text/plain": [
       "100"
      ]
     },
     "execution_count": 13,
     "metadata": {},
     "output_type": "execute_result"
    }
   ],
   "source": [
    "gbrt.n_estimators"
   ]
  },
  {
   "cell_type": "markdown",
   "id": "1e07fd52",
   "metadata": {},
   "source": [
    "## Question 2 - 3 points\n",
    "\n",
    "Train sklearn `GradientBoostingClassifier` with following parameters:\n",
    "```\n",
    "n_estimators=1000, \n",
    "learning_rate=0.1,\n",
    "subsample=0.8,\n",
    "max_features=0.8,\n",
    "n_iter_no_change=5,\n",
    "max_depth=3, \n",
    "random_state=0\n",
    "```\n",
    "\n",
    "Display:\n",
    "- AUC on Testing data\n",
    "- Accuracy on Testing data\n",
    "- Number of trees for the trained classifier"
   ]
  },
  {
   "cell_type": "code",
   "execution_count": 14,
   "id": "41010967",
   "metadata": {},
   "outputs": [
    {
     "name": "stdout",
     "output_type": "stream",
     "text": [
      "AUC on testing data: 0.959355989361353\n",
      "Accuracy on test set: 0.933\n"
     ]
    }
   ],
   "source": [
    "from sklearn.ensemble import GradientBoostingClassifier\n",
    "\n",
    "\n",
    "gbrt = GradientBoostingClassifier(n_estimators=1000, learning_rate=0.1,subsample=0.8,max_features=0.8,n_iter_no_change=5,max_depth=3, random_state=0)\n",
    "gbrt.fit(X_tr, Y_tr)\n",
    "\n",
    "y_pred = gbrt.predict_proba(X_tst)[:, 1]\n",
    "auc = metrics.roc_auc_score(Y_tst, y_pred)\n",
    "\n",
    "\n",
    "print(\"AUC on testing data:\", auc)\n",
    "print(\"Accuracy on test set: {:.3f}\".format(gbrt.score(X_tst, Y_tst)))"
   ]
  },
  {
   "cell_type": "code",
   "execution_count": 15,
   "id": "28124ae9",
   "metadata": {},
   "outputs": [
    {
     "name": "stdout",
     "output_type": "stream",
     "text": [
      "the number of used trees are 1000\n"
     ]
    }
   ],
   "source": [
    "print(\"the number of used trees are\",gbrt.n_estimators)"
   ]
  },
  {
   "cell_type": "markdown",
   "id": "1dffac0f",
   "metadata": {},
   "source": [
    "## Question 3 - 10 points\n",
    "\n",
    "Use Grid search to train at least 16 `GradientBoostingClassifier`. Tune following parameters, set `random_state=0`:\n",
    "```\n",
    "n_estimators, \n",
    "learning_rate,\n",
    "subsample,\n",
    "max_features,\n",
    "n_iter_no_change,\n",
    "max_depth, \n",
    "```\n",
    "Your grid search should be performed using CV=3.\n",
    "To speed up training process, set `n_jobs` to number of available cores on your machine. For example, if you have 8 CPU/Core machine, set `n_jobs=4` or `n_jobs=6`\n",
    "\n",
    "For the best model (based on AUC) display:\n",
    "- Model parameters\n",
    "- AUC on Testing data\n",
    "- Accuracy on Testing data\n",
    "- Number of trees for the trained classifier\n",
    "\n",
    "**Important**: It will take long time to train models, you will be training at least 16x3=48 models. Test that your Grid search works with small subset of the data first.\n",
    "\n",
    "Once you have trained the Grid object, save it to the disk so that you can retrieve  it without going through re-train step. You can find example on how to save model in the Project 1 template.\n",
    "\n",
    "For the best model, display:\n",
    "- AUC on Testing data\n",
    "- Accuracy on Testing data\n",
    "- Number of trees for the trained classifier\n",
    "\n",
    "**Optional** questions (if you plan to practice data science, you should make every effort to answer them): \n",
    "- Why do you think number of trees for the best model is less than `n_estimators`?\n",
    "- Think about all parameters you are tuning using grid search.\n",
    "- How are those parameters help to reduce overfit? "
   ]
  },
  {
   "cell_type": "code",
   "execution_count": 16,
   "id": "b76cb042",
   "metadata": {},
   "outputs": [
    {
     "name": "stdout",
     "output_type": "stream",
     "text": [
      "Best: 0.817430 using {'learning_rate': 10, 'max_depth': 1, 'max_features': 0.8, 'n_estimators': 50, 'n_iter_no_change': 5, 'subsample': 0.6}\n"
     ]
    }
   ],
   "source": [
    "from sklearn.model_selection import GridSearchCV\n",
    "from sklearn.ensemble import GradientBoostingClassifier\n",
    "from sklearn.model_selection import PredefinedSplit, GridSearchCV\n",
    "gbrt = GradientBoostingClassifier(random_state=0)\n",
    "n_estimators= [50,1000]\n",
    "learning_rate= [10,100]\n",
    "max_depth= [1,3]\n",
    "subsample= [0.6,0.8]\n",
    "max_features= [0.8,2]\n",
    "n_iter_no_change= [5,10]\n",
    "\n",
    "# Grid Search\n",
    "grid = dict(n_estimators = n_estimators, learning_rate = learning_rate, max_depth = max_depth, subsample = subsample,max_features = max_features,n_iter_no_change = n_iter_no_change  )\n",
    "grid_search = GridSearchCV(estimator=gbrt, param_grid=grid, n_jobs= 10,cv=3, scoring='accuracy',error_score=0)\n",
    "grid_result = grid_search.fit(X_tr, Y_tr)\n",
    "\n",
    "# Summary\n",
    "print(\"Best: %f using %s\" % (grid_result.best_score_, grid_result.best_params_))\n"
   ]
  },
  {
   "cell_type": "code",
   "execution_count": 17,
   "id": "8e2e4352",
   "metadata": {},
   "outputs": [
    {
     "name": "stdout",
     "output_type": "stream",
     "text": [
      "AUC on testing data: 0.9615458916677098\n",
      "Accuracy on test set: 0.935\n"
     ]
    }
   ],
   "source": [
    "new_gb= GradientBoostingClassifier(n_estimators=1000, learning_rate=0.1,subsample=0.8,max_features=0.8,n_iter_no_change=10,max_depth=3,random_state=0)\n",
    "new_gb.fit(X_tr, Y_tr)\n",
    "\n",
    "y_pred = new_gb.predict_proba(X_tst)[:, 1]\n",
    "auc = metrics.roc_auc_score(Y_tst, y_pred)\n",
    "\n",
    "\n",
    "print(\"AUC on testing data:\", auc)\n",
    "print(\"Accuracy on test set: {:.3f}\".format(new_gb.score(X_tst, Y_tst)))"
   ]
  },
  {
   "cell_type": "code",
   "execution_count": 18,
   "id": "0dda55f7",
   "metadata": {},
   "outputs": [
    {
     "data": {
      "text/plain": [
       "718"
      ]
     },
     "execution_count": 18,
     "metadata": {},
     "output_type": "execute_result"
    }
   ],
   "source": [
    "new_gb.n_estimators_"
   ]
  },
  {
   "cell_type": "code",
   "execution_count": 19,
   "id": "b5e09ef5",
   "metadata": {},
   "outputs": [
    {
     "name": "stdout",
     "output_type": "stream",
     "text": [
      "AUC on testing data: 0.30808315464599245\n",
      "Accuracy on test set: 0.172\n"
     ]
    }
   ],
   "source": [
    "y_pred = grid_search.predict_proba(X_tst)[:, 1]\n",
    "auc = metrics.roc_auc_score(Y_tst, y_pred)\n",
    "\n",
    "\n",
    "print(\"AUC on testing data:\", auc)\n",
    "print(\"Accuracy on test set: {:.3f}\".format(grid_search.score(X_tst, Y_tst)))"
   ]
  },
  {
   "cell_type": "markdown",
   "id": "2e1c69b5",
   "metadata": {},
   "source": [
    "## Question 4 - 5 points\n",
    "\n",
    "Train Stacked Ensemble model by utilizing `from sklearn.ensemble import StackingClassifier`.\n",
    "\n",
    "Good guide on how to train Stacked ensemble model can be found here: https://machinelearningmastery.com/stacking-ensemble-machine-learning-with-python/\n",
    "\n",
    "\n",
    "Stacked Ensemble is a technique to build Meta Learner (model). The Meta learner uses out-of-fold predictions of level-0 models (at least 2) to train level-1 model(meta learner). Meta learner is trained on the out-of-fold predictions done by the level-0 model in order to avoid overfitting.  \n",
    "\n",
    "For example, if level-0 model was trained using cv=3 it means there are 3 level-0 sub-models each trained on the 2/3 of the data. Therefore the hold-out 1/3 part of the training data was not used by the model for training, and predictions on the out of fold parts of the dataset can be used by Meta Learner. \n",
    "\n",
    "Choose two models for the level-0 models:\n",
    "- Best model from the Question 3\n",
    "- Worst model from the question 3\n",
    "\n",
    "You would only need model parameters, since sklearn `StackingClassifier` will retrain the the models.\n",
    "\n",
    "Train `StackingClassifier` and produce:\n",
    "- AUC on Testing data\n",
    "- Accuracy on Testing data\n",
    "\n",
    "\n",
    "*Hint*: to find best/worst model parameters for your `grid_search` object you can use below code. You would need to change `grid_search` to the variable name that holds your `GridSearchCV` object. \n",
    "```\n",
    "import numpy as np\n",
    "\n",
    "best_model_idx = np.argmax(grid_search.cv_results_['mean_test_score'])\n",
    "worst_model_idx = np.argmin(grid_search.cv_results_['mean_test_score']) \n",
    "print(\"Index of worst model:\",worst_model_idx)\n",
    "print(\"Index of best model:\",best_model_idx)\n",
    "\n",
    "print(\"Best model params:\")\n",
    "print(grid_search.cv_results_['params'][best_model_idx])\n",
    "print(\"\")\n",
    "print(\"Worst model params:\")\n",
    "print(grid_search.cv_results_['params'][worst_model_idx])\n",
    "```"
   ]
  },
  {
   "cell_type": "code",
   "execution_count": 20,
   "id": "8929dc8d",
   "metadata": {},
   "outputs": [
    {
     "name": "stdout",
     "output_type": "stream",
     "text": [
      "Index of worst model: 40\n",
      "Index of best model: 0\n",
      "Best model params:\n",
      "{'learning_rate': 10, 'max_depth': 1, 'max_features': 0.8, 'n_estimators': 50, 'n_iter_no_change': 5, 'subsample': 0.6}\n",
      "\n",
      "Worst model params:\n",
      "{'learning_rate': 100, 'max_depth': 1, 'max_features': 2, 'n_estimators': 50, 'n_iter_no_change': 5, 'subsample': 0.6}\n"
     ]
    }
   ],
   "source": [
    "import numpy as np \n",
    "best_model_idx = np.argmax(grid_search.cv_results_['mean_test_score'])\n",
    "worst_model_idx = np.argmin(grid_search.cv_results_['mean_test_score']) \n",
    "print(\"Index of worst model:\",worst_model_idx)\n",
    "print(\"Index of best model:\",best_model_idx)\n",
    "print(\"Best model params:\")\n",
    "print(grid_search.cv_results_['params'][best_model_idx])\n",
    "print(\"\")\n",
    "print(\"Worst model params:\")\n",
    "print(grid_search.cv_results_['params'][worst_model_idx])"
   ]
  },
  {
   "cell_type": "code",
   "execution_count": null,
   "id": "9c3fb414",
   "metadata": {},
   "outputs": [],
   "source": [
    "level0 = list()\n",
    "level0.append(('lr', LogisticRegression()))\n",
    "level0.append(('knn', KNeighborsClassifier()))\n",
    "# define meta learner model\n",
    "level1 = LogisticRegression()\n",
    "#define the stacking ensemble\n",
    "model = StackingClassifier(estimators=level0, final_estimator=level1, cv=5)"
   ]
  },
  {
   "cell_type": "code",
   "execution_count": 21,
   "id": "941f2197",
   "metadata": {},
   "outputs": [],
   "source": [
    "level0 = list()\n",
    "level0.append(('worst',GradientBoostingClassifier(n_estimators=50, learning_rate=100,subsample=0.6,max_features=2,n_iter_no_change=5,max_depth=1,random_state=0)))\n",
    "level0.append(('best', GradientBoostingClassifier(n_estimators=1000, learning_rate=0.1,subsample=0.8,max_features=0.8,n_iter_no_change=10,max_depth=3,random_state=0)))"
   ]
  },
  {
   "cell_type": "code",
   "execution_count": null,
   "id": "722d89d0",
   "metadata": {},
   "outputs": [],
   "source": [
    "from sklearn.ensemble import StackingClassifier\n",
    "# define meta learner model\n",
    "level1 = GradientBoostingClassifier(n_estimators=1000, learning_rate=0.1,subsample=0.8,max_features=0.8,n_iter_no_change=10,max_depth=3,random_state=0)\n",
    "# define the stacking ensemble\n",
    "model1 = StackingClassifier(estimators=level0, final_estimator=level1, cv=5)\n",
    "# fit the model on all available data\n",
    "model1.fit(X_tr, Y_tr)"
   ]
  },
  {
   "cell_type": "code",
   "execution_count": null,
   "id": "1471771b",
   "metadata": {},
   "outputs": [],
   "source": [
    "y_pred = model1.predict_proba(X_tst)[:, 1]\n",
    "auc = metrics.roc_auc_score(Y_tst, y_pred)\n",
    "\n",
    "\n",
    "print(\"AUC on testing data:\", auc)\n",
    "print(\"Accuracy on test set: {:.3f}\".format(new_gb.score(X_tst, Y_tst)))"
   ]
  }
 ],
 "metadata": {
  "kernelspec": {
   "display_name": "Python 3 (ipykernel)",
   "language": "python",
   "name": "python3"
  },
  "language_info": {
   "codemirror_mode": {
    "name": "ipython",
    "version": 3
   },
   "file_extension": ".py",
   "mimetype": "text/x-python",
   "name": "python",
   "nbconvert_exporter": "python",
   "pygments_lexer": "ipython3",
   "version": "3.9.7"
  }
 },
 "nbformat": 4,
 "nbformat_minor": 5
}
