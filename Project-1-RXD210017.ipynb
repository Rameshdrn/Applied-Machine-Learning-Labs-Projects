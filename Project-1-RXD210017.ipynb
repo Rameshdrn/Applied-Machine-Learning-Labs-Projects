{
 "cells": [
  {
   "cell_type": "markdown",
   "id": "62834763",
   "metadata": {},
   "source": [
    "# Project 1 Starter\n",
    "\n",
    "Project 1 is to allow students to practice Data Science concepts learned so far.\n",
    "\n",
    "The project will include following tasks:\n",
    "- Load dataset\n",
    "- Clean up the data:\n",
    "    - Encode replace missing values\n",
    "    - Replace features values that appear incorrect\n",
    "- Encode categorical variables\n",
    "- Split dataset to Train/Test/Validation\n",
    "- Add engineered features\n",
    "- Train and tune ML model\n",
    "- Provide final metrics using Validation dataset\n",
    "\n",
    "It is up to you if you would like to modify your dataset and then split it, or split it then modify.\n",
    "It is important to understand all the steps before model training, so that you can reliable replicate and test them to produce scoring function.\n",
    "\n",
    "The Project-1 will be graded based on the completeness and performance of your final model against hold out dataset. \n",
    "The hold out dataset will not be known to the students. As part of your deliverables, you will be need to submit scoring function. The scoring function will perform following:\n",
    "- Accept dataset in the same format as provided with the project, minus \"MIS_Status\" column\n",
    "- Load trained model and any encoders that are needed to transform data\n",
    "- Transform dataset into format that can be scored with the trained model\n",
    "- Score the dataset and return the results, for each record\n",
    "    - Record ID\n",
    "    - Record label as determined by final model (0 or 1)\n",
    "    - If your model returns probabilities, you need to assign label based on maximum F1 threshold\n",
    "\n",
    "\n",
    "Deliverables:\n",
    "- Jupyter notebook with complete code to manipulate data, train and tune final model\n",
    "- Model and any potential encoders in the \"pkl\" format\n",
    "- Scoring function that will load final model and encoders\n",
    "\n",
    "\n",
    "Your notebook should include explanations about your code and be designed to be easily followed and results replicated. Once you are done with final version, you will need to test it by running all cells from top to bottom after restarting Kernel. It can be done by running `Kernel -> Restart & Run All`\n",
    "\n",
    "\n",
    "**Important**: you might want to first produce working code using small subset of the dataset to speed up debuging process."
   ]
  },
  {
   "cell_type": "markdown",
   "id": "c341cb74",
   "metadata": {},
   "source": [
    "## Dataset description\n",
    "The dataset for Lab-2 is sample of the SBA dataset posted on Kaggle.\n",
    "The dataset is from the U.S. Small Business Administration (SBA) The U.S. SBA was founded in 1953 on the principle of promoting and assisting small enterprises in the U.S. credit market (SBA Overview and History, US Small Business Administration (2015)). Small businesses have been a primary source of job creation in the United States; therefore, fostering small business formation and growth has social benefits by creating job opportunities and reducing unemployment. There have been many success stories of start-ups receiving SBA loan guarantees such as FedEx and Apple Computer. However, there have also been stories of small businesses and/or start-ups that have defaulted on their SBA-guaranteed loans.  \n",
    "More info on the original dataset: https://www.kaggle.com/mirbektoktogaraev/should-this-loan-be-approved-or-denied\n",
    "\n",
    "**Don't use original dataset, use only dataset provided with project requirements in eLearning**"
   ]
  },
  {
   "cell_type": "markdown",
   "id": "a0c9b618",
   "metadata": {},
   "source": [
    "## Preparation\n",
    "\n",
    "Use dataset provided in the eLearning"
   ]
  },
  {
   "cell_type": "code",
   "execution_count": 1,
   "id": "3ca7e035",
   "metadata": {},
   "outputs": [
    {
     "data": {
      "text/html": [
       "<style>.container { width:80% !important; }</style>"
      ],
      "text/plain": [
       "<IPython.core.display.HTML object>"
      ]
     },
     "metadata": {},
     "output_type": "display_data"
    }
   ],
   "source": [
    "import pandas as pd\n",
    "import numpy as np \n",
    "\n",
    "pd.set_option('display.max_columns', 1500)\n",
    "\n",
    "import warnings\n",
    "warnings.filterwarnings('ignore')\n",
    "\n",
    "#Extend cell width\n",
    "from IPython.core.display import display, HTML\n",
    "display(HTML(\"<style>.container { width:80% !important; }</style>\"))"
   ]
  },
  {
   "cell_type": "code",
   "execution_count": 2,
   "id": "eb889838",
   "metadata": {},
   "outputs": [],
   "source": [
    "\"\"\"\n",
    "Created on Mon Mar 18 18:25:50 2019\n",
    "\n",
    "@author: Uri Smashnov\n",
    "\n",
    "Purpose: Analyze input Pandas DataFrame and return stats per column\n",
    "Details: The function calculates levels for categorical variables and allows to analyze summarized information\n",
    "\n",
    "To view wide table set following Pandas options:\n",
    "pd.set_option('display.width', 1000)\n",
    "pd.set_option('max_colwidth',200)\n",
    "\"\"\"\n",
    "import pandas as pd\n",
    "def describe_more(df,normalize_ind=False, weight_column=None, skip_columns=[], dropna=True):\n",
    "    var = [] ; l = [] ; t = []; unq =[]; min_l = []; max_l = [];\n",
    "    assert isinstance(skip_columns, list), \"Argument skip_columns should be list\"\n",
    "    if weight_column is not None:\n",
    "        if weight_column not in list(df.columns):\n",
    "            raise AssertionError('weight_column is not a valid column name in the input DataFrame')\n",
    "      \n",
    "    for x in df:\n",
    "        if x in skip_columns:\n",
    "            pass\n",
    "        else:\n",
    "            var.append( x )\n",
    "            uniq_counts = len(pd.value_counts(df[x],dropna=dropna))\n",
    "            uniq_counts = len(pd.value_counts(df[x], dropna=dropna)[pd.value_counts(df[x],dropna=dropna)>0])\n",
    "            l.append(uniq_counts)\n",
    "            t.append( df[ x ].dtypes )\n",
    "            min_l.append(df[x].apply(str).str.len().min())\n",
    "            max_l.append(df[x].apply(str).str.len().max())\n",
    "            if weight_column is not None and x not in skip_columns:\n",
    "                df2 = df.groupby(x).agg({weight_column: 'sum'}).sort_values(weight_column, ascending=False)\n",
    "                df2['authtrans_vts_cnt']=((df2[weight_column])/df2[weight_column].sum()).round(2)\n",
    "                unq.append(df2.head(n=100).to_dict()[weight_column])\n",
    "            else:\n",
    "                df_cat_d = df[x].value_counts(normalize=normalize_ind,dropna=dropna).round(decimals=2)\n",
    "                df_cat_d = df_cat_d[df_cat_d>0]\n",
    "                #unq.append(df[x].value_counts().iloc[0:100].to_dict())\n",
    "                unq.append(df_cat_d.iloc[0:100].to_dict())\n",
    "            \n",
    "    levels = pd.DataFrame( { 'A_Variable' : var , 'Levels' : l , 'Datatype' : t ,\n",
    "                             'Min Length' : min_l,\n",
    "                             'Max Length': max_l,\n",
    "                             'Level_Values' : unq} )\n",
    "    #levels.sort_values( by = 'Levels' , inplace = True )\n",
    "    return levels"
   ]
  },
  {
   "cell_type": "markdown",
   "id": "cee2c254",
   "metadata": {},
   "source": [
    "### Load data"
   ]
  },
  {
   "cell_type": "code",
   "execution_count": 3,
   "id": "a19bd163",
   "metadata": {},
   "outputs": [],
   "source": [
    "SBA_loans = pd.read_csv('SBA_loans_project_1.zip')"
   ]
  },
  {
   "cell_type": "code",
   "execution_count": 4,
   "id": "2301a5ed",
   "metadata": {},
   "outputs": [
    {
     "name": "stdout",
     "output_type": "stream",
     "text": [
      "Data shape: (809247, 20)\n"
     ]
    }
   ],
   "source": [
    "print(\"Data shape:\", SBA_loans.shape)"
   ]
  },
  {
   "cell_type": "code",
   "execution_count": 5,
   "id": "218baec3",
   "metadata": {},
   "outputs": [],
   "source": [
    "#to be used later\n",
    "dataf=SBA_loans.copy()\n",
    "dataf1=SBA_loans.copy()\n",
    "dataf2=SBA_loans.copy()"
   ]
  },
  {
   "cell_type": "markdown",
   "id": "ab8b4aea",
   "metadata": {},
   "source": [
    "**Review dataset**"
   ]
  },
  {
   "cell_type": "code",
   "execution_count": 6,
   "id": "547f9eb1",
   "metadata": {},
   "outputs": [
    {
     "data": {
      "text/html": [
       "<div>\n",
       "<style scoped>\n",
       "    .dataframe tbody tr th:only-of-type {\n",
       "        vertical-align: middle;\n",
       "    }\n",
       "\n",
       "    .dataframe tbody tr th {\n",
       "        vertical-align: top;\n",
       "    }\n",
       "\n",
       "    .dataframe thead th {\n",
       "        text-align: right;\n",
       "    }\n",
       "</style>\n",
       "<table border=\"1\" class=\"dataframe\">\n",
       "  <thead>\n",
       "    <tr style=\"text-align: right;\">\n",
       "      <th></th>\n",
       "      <th>A_Variable</th>\n",
       "      <th>Levels</th>\n",
       "      <th>Datatype</th>\n",
       "      <th>Min Length</th>\n",
       "      <th>Max Length</th>\n",
       "      <th>Level_Values</th>\n",
       "    </tr>\n",
       "  </thead>\n",
       "  <tbody>\n",
       "    <tr>\n",
       "      <th>0</th>\n",
       "      <td>City</td>\n",
       "      <td>31320</td>\n",
       "      <td>object</td>\n",
       "      <td>1</td>\n",
       "      <td>30</td>\n",
       "      <td>{'LOS ANGELES': 10372, 'HOUSTON': 9260, 'NEW Y...</td>\n",
       "    </tr>\n",
       "    <tr>\n",
       "      <th>1</th>\n",
       "      <td>State</td>\n",
       "      <td>51</td>\n",
       "      <td>object</td>\n",
       "      <td>2</td>\n",
       "      <td>3</td>\n",
       "      <td>{'CA': 117341, 'TX': 63425, 'NY': 51877, 'FL':...</td>\n",
       "    </tr>\n",
       "    <tr>\n",
       "      <th>2</th>\n",
       "      <td>Zip</td>\n",
       "      <td>32731</td>\n",
       "      <td>int64</td>\n",
       "      <td>1</td>\n",
       "      <td>5</td>\n",
       "      <td>{10001: 841, 90015: 830, 93401: 729, 90010: 65...</td>\n",
       "    </tr>\n",
       "    <tr>\n",
       "      <th>3</th>\n",
       "      <td>Bank</td>\n",
       "      <td>5716</td>\n",
       "      <td>object</td>\n",
       "      <td>3</td>\n",
       "      <td>30</td>\n",
       "      <td>{'BANK OF AMERICA NATL ASSOC': 78111, 'WELLS F...</td>\n",
       "    </tr>\n",
       "    <tr>\n",
       "      <th>4</th>\n",
       "      <td>BankState</td>\n",
       "      <td>55</td>\n",
       "      <td>object</td>\n",
       "      <td>2</td>\n",
       "      <td>3</td>\n",
       "      <td>{'CA': 106293, 'NC': 71557, 'IL': 59258, 'OH':...</td>\n",
       "    </tr>\n",
       "    <tr>\n",
       "      <th>5</th>\n",
       "      <td>NAICS</td>\n",
       "      <td>1307</td>\n",
       "      <td>int64</td>\n",
       "      <td>1</td>\n",
       "      <td>6</td>\n",
       "      <td>{0: 181845, 722110: 25217, 722211: 17476, 8111...</td>\n",
       "    </tr>\n",
       "    <tr>\n",
       "      <th>6</th>\n",
       "      <td>Term</td>\n",
       "      <td>407</td>\n",
       "      <td>int64</td>\n",
       "      <td>1</td>\n",
       "      <td>3</td>\n",
       "      <td>{84: 207228, 60: 80965, 240: 77385, 120: 69852...</td>\n",
       "    </tr>\n",
       "    <tr>\n",
       "      <th>7</th>\n",
       "      <td>NoEmp</td>\n",
       "      <td>581</td>\n",
       "      <td>int64</td>\n",
       "      <td>1</td>\n",
       "      <td>4</td>\n",
       "      <td>{1: 138836, 2: 124470, 3: 81466, 4: 66306, 5: ...</td>\n",
       "    </tr>\n",
       "    <tr>\n",
       "      <th>8</th>\n",
       "      <td>NewExist</td>\n",
       "      <td>3</td>\n",
       "      <td>float64</td>\n",
       "      <td>3</td>\n",
       "      <td>3</td>\n",
       "      <td>{1.0: 580478, 2.0: 227709, 0.0: 932}</td>\n",
       "    </tr>\n",
       "    <tr>\n",
       "      <th>9</th>\n",
       "      <td>CreateJob</td>\n",
       "      <td>234</td>\n",
       "      <td>int64</td>\n",
       "      <td>1</td>\n",
       "      <td>4</td>\n",
       "      <td>{0: 566148, 1: 56789, 2: 52162, 3: 25945, 4: 1...</td>\n",
       "    </tr>\n",
       "    <tr>\n",
       "      <th>10</th>\n",
       "      <td>RetainedJob</td>\n",
       "      <td>345</td>\n",
       "      <td>int64</td>\n",
       "      <td>1</td>\n",
       "      <td>4</td>\n",
       "      <td>{0: 396287, 1: 79893, 2: 69149, 3: 44941, 4: 3...</td>\n",
       "    </tr>\n",
       "    <tr>\n",
       "      <th>11</th>\n",
       "      <td>FranchiseCode</td>\n",
       "      <td>2684</td>\n",
       "      <td>int64</td>\n",
       "      <td>1</td>\n",
       "      <td>5</td>\n",
       "      <td>{1: 574731, 0: 187961, 78760: 3043, 68020: 173...</td>\n",
       "    </tr>\n",
       "    <tr>\n",
       "      <th>12</th>\n",
       "      <td>UrbanRural</td>\n",
       "      <td>3</td>\n",
       "      <td>int64</td>\n",
       "      <td>1</td>\n",
       "      <td>1</td>\n",
       "      <td>{1: 423681, 0: 290804, 2: 94762}</td>\n",
       "    </tr>\n",
       "    <tr>\n",
       "      <th>13</th>\n",
       "      <td>RevLineCr</td>\n",
       "      <td>16</td>\n",
       "      <td>object</td>\n",
       "      <td>1</td>\n",
       "      <td>3</td>\n",
       "      <td>{'N': 378424, '0': 231967, 'Y': 181011, 'T': 1...</td>\n",
       "    </tr>\n",
       "    <tr>\n",
       "      <th>14</th>\n",
       "      <td>LowDoc</td>\n",
       "      <td>8</td>\n",
       "      <td>object</td>\n",
       "      <td>1</td>\n",
       "      <td>3</td>\n",
       "      <td>{'N': 704515, 'Y': 99339, '0': 1343, 'C': 681,...</td>\n",
       "    </tr>\n",
       "    <tr>\n",
       "      <th>15</th>\n",
       "      <td>DisbursementGross</td>\n",
       "      <td>110579</td>\n",
       "      <td>object</td>\n",
       "      <td>6</td>\n",
       "      <td>15</td>\n",
       "      <td>{'$50,000.00 ': 39328, '$100,000.00 ': 33116, ...</td>\n",
       "    </tr>\n",
       "    <tr>\n",
       "      <th>16</th>\n",
       "      <td>BalanceGross</td>\n",
       "      <td>13</td>\n",
       "      <td>object</td>\n",
       "      <td>6</td>\n",
       "      <td>12</td>\n",
       "      <td>{'$0.00 ': 809235, '$41,509.00 ': 1, '$115,820...</td>\n",
       "    </tr>\n",
       "    <tr>\n",
       "      <th>17</th>\n",
       "      <td>GrAppv</td>\n",
       "      <td>20724</td>\n",
       "      <td>object</td>\n",
       "      <td>8</td>\n",
       "      <td>14</td>\n",
       "      <td>{'$50,000.00 ': 62264, '$25,000.00 ': 46168, '...</td>\n",
       "    </tr>\n",
       "    <tr>\n",
       "      <th>18</th>\n",
       "      <td>SBA_Appv</td>\n",
       "      <td>35896</td>\n",
       "      <td>object</td>\n",
       "      <td>8</td>\n",
       "      <td>14</td>\n",
       "      <td>{'$25,000.00 ': 44418, '$12,500.00 ': 36115, '...</td>\n",
       "    </tr>\n",
       "    <tr>\n",
       "      <th>19</th>\n",
       "      <td>MIS_Status</td>\n",
       "      <td>2</td>\n",
       "      <td>object</td>\n",
       "      <td>3</td>\n",
       "      <td>6</td>\n",
       "      <td>{'P I F': 665576, 'CHGOFF': 141849}</td>\n",
       "    </tr>\n",
       "  </tbody>\n",
       "</table>\n",
       "</div>"
      ],
      "text/plain": [
       "           A_Variable  Levels Datatype  Min Length  Max Length  \\\n",
       "0                City   31320   object           1          30   \n",
       "1               State      51   object           2           3   \n",
       "2                 Zip   32731    int64           1           5   \n",
       "3                Bank    5716   object           3          30   \n",
       "4           BankState      55   object           2           3   \n",
       "5               NAICS    1307    int64           1           6   \n",
       "6                Term     407    int64           1           3   \n",
       "7               NoEmp     581    int64           1           4   \n",
       "8            NewExist       3  float64           3           3   \n",
       "9           CreateJob     234    int64           1           4   \n",
       "10        RetainedJob     345    int64           1           4   \n",
       "11      FranchiseCode    2684    int64           1           5   \n",
       "12         UrbanRural       3    int64           1           1   \n",
       "13          RevLineCr      16   object           1           3   \n",
       "14             LowDoc       8   object           1           3   \n",
       "15  DisbursementGross  110579   object           6          15   \n",
       "16       BalanceGross      13   object           6          12   \n",
       "17             GrAppv   20724   object           8          14   \n",
       "18           SBA_Appv   35896   object           8          14   \n",
       "19         MIS_Status       2   object           3           6   \n",
       "\n",
       "                                         Level_Values  \n",
       "0   {'LOS ANGELES': 10372, 'HOUSTON': 9260, 'NEW Y...  \n",
       "1   {'CA': 117341, 'TX': 63425, 'NY': 51877, 'FL':...  \n",
       "2   {10001: 841, 90015: 830, 93401: 729, 90010: 65...  \n",
       "3   {'BANK OF AMERICA NATL ASSOC': 78111, 'WELLS F...  \n",
       "4   {'CA': 106293, 'NC': 71557, 'IL': 59258, 'OH':...  \n",
       "5   {0: 181845, 722110: 25217, 722211: 17476, 8111...  \n",
       "6   {84: 207228, 60: 80965, 240: 77385, 120: 69852...  \n",
       "7   {1: 138836, 2: 124470, 3: 81466, 4: 66306, 5: ...  \n",
       "8                {1.0: 580478, 2.0: 227709, 0.0: 932}  \n",
       "9   {0: 566148, 1: 56789, 2: 52162, 3: 25945, 4: 1...  \n",
       "10  {0: 396287, 1: 79893, 2: 69149, 3: 44941, 4: 3...  \n",
       "11  {1: 574731, 0: 187961, 78760: 3043, 68020: 173...  \n",
       "12                   {1: 423681, 0: 290804, 2: 94762}  \n",
       "13  {'N': 378424, '0': 231967, 'Y': 181011, 'T': 1...  \n",
       "14  {'N': 704515, 'Y': 99339, '0': 1343, 'C': 681,...  \n",
       "15  {'$50,000.00 ': 39328, '$100,000.00 ': 33116, ...  \n",
       "16  {'$0.00 ': 809235, '$41,509.00 ': 1, '$115,820...  \n",
       "17  {'$50,000.00 ': 62264, '$25,000.00 ': 46168, '...  \n",
       "18  {'$25,000.00 ': 44418, '$12,500.00 ': 36115, '...  \n",
       "19                {'P I F': 665576, 'CHGOFF': 141849}  "
      ]
     },
     "execution_count": 6,
     "metadata": {},
     "output_type": "execute_result"
    }
   ],
   "source": [
    "desc_df = describe_more(SBA_loans)\n",
    "desc_df"
   ]
  },
  {
   "cell_type": "markdown",
   "id": "5fe1af41",
   "metadata": {},
   "source": [
    "## Dataset preparation and clean-up\n",
    "\n",
    "Modify and clean-up the dataset as following:\n",
    "- Replace encode Na/Null values\n",
    "- Convert the strings styled as '$XXXX.XX' to float values. Columns = ['DisbursementGross', 'BalanceGross', 'GrAppv', 'SBA_Appv']\n",
    "- Convert MIS_Status to 0/1. Make value \"CHGOFF\" as 1"
   ]
  },
  {
   "cell_type": "code",
   "execution_count": 7,
   "id": "0f9f9eaa",
   "metadata": {},
   "outputs": [
    {
     "data": {
      "text/plain": [
       "City                   25\n",
       "State                  12\n",
       "Zip                     0\n",
       "Bank                 1405\n",
       "BankState            1411\n",
       "NAICS                   0\n",
       "Term                    0\n",
       "NoEmp                   0\n",
       "NewExist              128\n",
       "CreateJob               0\n",
       "RetainedJob             0\n",
       "FranchiseCode           0\n",
       "UrbanRural              0\n",
       "RevLineCr            4094\n",
       "LowDoc               2319\n",
       "DisbursementGross       0\n",
       "BalanceGross            0\n",
       "GrAppv                  0\n",
       "SBA_Appv                0\n",
       "MIS_Status           1822\n",
       "dtype: int64"
      ]
     },
     "execution_count": 7,
     "metadata": {},
     "output_type": "execute_result"
    }
   ],
   "source": [
    "#viewing all the null values\n",
    "SBA_loans.isnull().sum()"
   ]
  },
  {
   "cell_type": "code",
   "execution_count": 8,
   "id": "89733770",
   "metadata": {},
   "outputs": [],
   "source": [
    "#Filling Nans with appropriate value\n",
    "\n",
    "SBA_loans['City'] = SBA_loans['City'].replace(np.nan, SBA_loans['City'].mode()[0])                      \n",
    "SBA_loans['State'] = SBA_loans['State'].replace(np.nan, SBA_loans['State'].mode()[0])                   \n",
    "SBA_loans['Bank'] = SBA_loans['Bank'].replace(np.nan, SBA_loans['Bank'].mode()[0])                      \n",
    "SBA_loans['BankState'] = SBA_loans['BankState'].replace(np.nan, SBA_loans['BankState'].mode()[0])       \n",
    "SBA_loans['NewExist'] = SBA_loans['NewExist'].replace(np.nan, SBA_loans['NewExist'].mode()[0])          \n",
    "SBA_loans['RevLineCr'] = SBA_loans['RevLineCr'].replace(np.nan, SBA_loans['RevLineCr'].mode()[0])       \n",
    "SBA_loans['LowDoc'] = SBA_loans['LowDoc'].replace(np.nan, SBA_loans['LowDoc'].mode()[0])                \n",
    "SBA_loans['MIS_Status'] = SBA_loans['MIS_Status'].replace(np.nan, SBA_loans['MIS_Status'].mode()[0])    \n"
   ]
  },
  {
   "cell_type": "code",
   "execution_count": 9,
   "id": "0b2fcfef",
   "metadata": {},
   "outputs": [],
   "source": [
    "Columns=['DisbursementGross', 'BalanceGross', 'GrAppv', 'SBA_Appv']\n",
    "\n",
    "for col in Columns:\n",
    "    SBA_loans[col] = SBA_loans[col].str.replace(',', '')\n",
    "    SBA_loans[col] = SBA_loans[col].str.replace('$', '') \n",
    "    SBA_loans[col] = SBA_loans[col].str.replace(' ', '') \n",
    "    SBA_loans[col] = SBA_loans[col].astype(float)"
   ]
  },
  {
   "cell_type": "code",
   "execution_count": 10,
   "id": "13e34d46",
   "metadata": {},
   "outputs": [],
   "source": [
    "SBA_loans['MIS_Status'] = SBA_loans['MIS_Status'].replace({'P I F': 0, 'CHGOFF': 1})"
   ]
  },
  {
   "cell_type": "code",
   "execution_count": 11,
   "id": "474c806e",
   "metadata": {},
   "outputs": [],
   "source": [
    "SBA_loans.loc[SBA_loans['RevLineCr'] != 'Y', 'RevLineCr'] = 0\n",
    "SBA_loans.loc[SBA_loans['RevLineCr'] == 'Y', 'RevLineCr'] = 1\n",
    "SBA_loans['RevLineCr']=SBA_loans['RevLineCr'].astype(int)"
   ]
  },
  {
   "cell_type": "code",
   "execution_count": 12,
   "id": "549a1bef",
   "metadata": {},
   "outputs": [],
   "source": [
    "SBA_loans.loc[SBA_loans['LowDoc'] != 'Y', 'LowDoc'] = 0\n",
    "SBA_loans.loc[SBA_loans['LowDoc'] == 'Y', 'LowDoc'] = 1\n",
    "SBA_loans['LowDoc']=SBA_loans['LowDoc'].astype(int)"
   ]
  },
  {
   "cell_type": "markdown",
   "id": "b7f21dcf",
   "metadata": {},
   "source": [
    "## Categorical variables encoding\n",
    "\n",
    "Encode categorical variables using either one of the techniques below. Don't use LabelEncoder.\n",
    "- One-hot-encoder for variables with less than 10 valid values. Name your new columns \"Original_name\"_valid_value\n",
    "- (If using sklearn) Target encoder from the following library: https://contrib.scikit-learn.org/category_encoders/index.html . Name your new column \"Original_name\"_trg\n",
    "- (If using H2O) Use H2O target encoder\n",
    "\n",
    "\n",
    "Example of use for target encoder:\n",
    "```\n",
    "import category_encoders as ce\n",
    "\n",
    "encoder = ce.TargetEncoder(cols=[...])\n",
    "\n",
    "encoder.fit(X, y)\n",
    "X_cleaned = encoder.transform(X_dirty)\n",
    "```"
   ]
  },
  {
   "cell_type": "code",
   "execution_count": 13,
   "id": "4fef1d2e",
   "metadata": {},
   "outputs": [
    {
     "data": {
      "text/plain": [
       "City                  31320\n",
       "State                    51\n",
       "Zip                   32731\n",
       "Bank                   5716\n",
       "BankState                55\n",
       "NAICS                  1307\n",
       "Term                    407\n",
       "NoEmp                   581\n",
       "NewExist                  3\n",
       "CreateJob               234\n",
       "RetainedJob             345\n",
       "FranchiseCode          2684\n",
       "UrbanRural                3\n",
       "RevLineCr                 2\n",
       "LowDoc                    2\n",
       "DisbursementGross    110579\n",
       "BalanceGross             13\n",
       "GrAppv                20724\n",
       "SBA_Appv              35896\n",
       "MIS_Status                2\n",
       "dtype: int64"
      ]
     },
     "execution_count": 13,
     "metadata": {},
     "output_type": "execute_result"
    }
   ],
   "source": [
    "SBA_loans.nunique()"
   ]
  },
  {
   "cell_type": "code",
   "execution_count": 14,
   "id": "69bc00f1",
   "metadata": {},
   "outputs": [
    {
     "name": "stdout",
     "output_type": "stream",
     "text": [
      "One-hot encoding of NewExist\n",
      "One-hot encoding of UrbanRural\n"
     ]
    }
   ],
   "source": [
    "#One-hot Encode the variables with less than 10 valid values. \n",
    "columns_one_hot=['NewExist','UrbanRural']\n",
    "cols_to_drop = []\n",
    "\n",
    "for col in columns_one_hot:\n",
    "    print(f'One-hot encoding of {col}')\n",
    "    one_hot_cols = pd.get_dummies(SBA_loans[col])\n",
    "    for ohc in one_hot_cols.columns:\n",
    "        SBA_loans[col + '_' + str(ohc)] = one_hot_cols[ohc]\n",
    "    cols_to_drop.append(col)\n",
    "\n",
    "SBA_loans = SBA_loans.drop(columns=cols_to_drop)"
   ]
  },
  {
   "cell_type": "code",
   "execution_count": 15,
   "id": "dac60d89",
   "metadata": {},
   "outputs": [
    {
     "data": {
      "text/plain": [
       "City                  object\n",
       "State                 object\n",
       "Zip                    int64\n",
       "Bank                  object\n",
       "BankState             object\n",
       "NAICS                  int64\n",
       "Term                   int64\n",
       "NoEmp                  int64\n",
       "CreateJob              int64\n",
       "RetainedJob            int64\n",
       "FranchiseCode          int64\n",
       "RevLineCr              int64\n",
       "LowDoc                 int64\n",
       "DisbursementGross    float64\n",
       "BalanceGross         float64\n",
       "GrAppv               float64\n",
       "SBA_Appv             float64\n",
       "MIS_Status             int64\n",
       "NewExist_0.0           uint8\n",
       "NewExist_1.0           uint8\n",
       "NewExist_2.0           uint8\n",
       "UrbanRural_0           uint8\n",
       "UrbanRural_1           uint8\n",
       "UrbanRural_2           uint8\n",
       "dtype: object"
      ]
     },
     "execution_count": 15,
     "metadata": {},
     "output_type": "execute_result"
    }
   ],
   "source": [
    "SBA_loans.dtypes"
   ]
  },
  {
   "cell_type": "code",
   "execution_count": 16,
   "id": "0246cb30",
   "metadata": {},
   "outputs": [
    {
     "name": "stdout",
     "output_type": "stream",
     "text": [
      "Hashing of City\n",
      "Hashing of State\n",
      "Hashing of Bank\n",
      "Hashing of BankState\n"
     ]
    }
   ],
   "source": [
    "#Hashing the Object data type\n",
    "import hashlib\n",
    "columns_hash=['City','State','Bank','BankState']\n",
    "lendata = len(SBA_loans)\n",
    "\n",
    "for col in columns_hash:\n",
    "    print(f'Hashing of {col}')\n",
    "    SBA_loans[col] = SBA_loans[col].apply(lambda row: int(hashlib.sha1((col + \"_\" + str(row)).encode('utf-8')).hexdigest(), 16) % lendata)"
   ]
  },
  {
   "cell_type": "code",
   "execution_count": 17,
   "id": "c39d0bdd",
   "metadata": {},
   "outputs": [
    {
     "data": {
      "text/plain": [
       "City                   int64\n",
       "State                  int64\n",
       "Zip                    int64\n",
       "Bank                   int64\n",
       "BankState              int64\n",
       "NAICS                  int64\n",
       "Term                   int64\n",
       "NoEmp                  int64\n",
       "CreateJob              int64\n",
       "RetainedJob            int64\n",
       "FranchiseCode          int64\n",
       "RevLineCr              int64\n",
       "LowDoc                 int64\n",
       "DisbursementGross    float64\n",
       "BalanceGross         float64\n",
       "GrAppv               float64\n",
       "SBA_Appv             float64\n",
       "MIS_Status             int64\n",
       "NewExist_0.0           uint8\n",
       "NewExist_1.0           uint8\n",
       "NewExist_2.0           uint8\n",
       "UrbanRural_0           uint8\n",
       "UrbanRural_1           uint8\n",
       "UrbanRural_2           uint8\n",
       "dtype: object"
      ]
     },
     "execution_count": 17,
     "metadata": {},
     "output_type": "execute_result"
    }
   ],
   "source": [
    "#Checking data types \n",
    "SBA_loans.dtypes"
   ]
  },
  {
   "cell_type": "markdown",
   "id": "7bb0bfa4",
   "metadata": {},
   "source": [
    "# Model Training\n",
    "\n",
    "Depending on the model of your choice, you might need to use appropriate scaler for numerical variables.\n",
    "\n",
    "Train at least two types of models from the below list.\n",
    "If you use sklearn libraries:\n",
    "- Logistic regression\n",
    "- SVM\n",
    "- Decision Tree\n",
    "\n",
    "If you use H2O libraries:\n",
    "- GLM\n",
    "- SVM\n",
    "- Naïve Bayes Classifier"
   ]
  },
  {
   "cell_type": "code",
   "execution_count": 18,
   "id": "265acf5d",
   "metadata": {},
   "outputs": [],
   "source": [
    "from sklearn.model_selection import train_test_split\n",
    "\n",
    "x = SBA_loans.drop(columns='MIS_Status')\n",
    "y = SBA_loans['MIS_Status']\n",
    "\n",
    "#Train Test Split the data in 70:30 ration\n",
    "x_train, x_test, y_train, y_test = train_test_split(x, y,test_size=0.3,random_state=25)"
   ]
  },
  {
   "cell_type": "code",
   "execution_count": 19,
   "id": "1b357284",
   "metadata": {},
   "outputs": [
    {
     "name": "stdout",
     "output_type": "stream",
     "text": [
      "F1 Score: 0.7764412429773645\n",
      "Accuracy: 0.9209968077437957\n",
      "Precision: 0.7750680659949271\n",
      "Recall: 0.7778192942715023\n"
     ]
    }
   ],
   "source": [
    "from sklearn.tree import DecisionTreeClassifier\n",
    "from sklearn import metrics\n",
    "\n",
    "#Applying Decision Tree\n",
    "data_clf = DecisionTreeClassifier(random_state=0)\n",
    "data_clf.fit(x_train, y_train)\n",
    "y_pred = data_clf.predict(x_test)\n",
    "\n",
    "\n",
    "data_f1=metrics.f1_score(y_test, y_pred)\n",
    "data_accuracy=metrics.accuracy_score(y_test, y_pred)\n",
    "data_precision=metrics.precision_score(y_test, y_pred)\n",
    "data_recall=metrics.recall_score(y_test, y_pred)\n",
    "data_cf_matrix = metrics.confusion_matrix(y_test, y_pred)\n",
    "\n",
    "print(\"F1 Score:\",data_f1)\n",
    "print(\"Accuracy:\",data_accuracy)\n",
    "print(\"Precision:\",data_precision)\n",
    "print(\"Recall:\",data_recall)"
   ]
  },
  {
   "cell_type": "code",
   "execution_count": 20,
   "id": "dff5664a",
   "metadata": {},
   "outputs": [
    {
     "name": "stdout",
     "output_type": "stream",
     "text": [
      "F1 Score: 0.01935276271030615\n",
      "Accuracy: 0.8242570281124498\n",
      "Precision: 0.6128093158660844\n",
      "Recall: 0.009831624670138484\n"
     ]
    }
   ],
   "source": [
    "from sklearn.linear_model import LogisticRegression\n",
    "\n",
    "#Applying Decision Tree\n",
    "logreg_clf = LogisticRegression(random_state=0)\n",
    "logreg_clf.fit(x_train, y_train)\n",
    "y_pred = logreg_clf.predict(x_test)\n",
    "\n",
    "\n",
    "logreg_f1=metrics.f1_score(y_test, y_pred)\n",
    "logreg_accuracy=metrics.accuracy_score(y_test, y_pred)\n",
    "logreg_precision=metrics.precision_score(y_test, y_pred)\n",
    "logreg_recall=metrics.recall_score(y_test, y_pred)\n",
    "logreg_cf_matrix = metrics.confusion_matrix(y_test, y_pred)\n",
    "\n",
    "print(\"F1 Score:\",logreg_f1)\n",
    "print(\"Accuracy:\",logreg_accuracy)\n",
    "print(\"Precision:\",logreg_precision)\n",
    "print(\"Recall:\",logreg_recall)"
   ]
  },
  {
   "cell_type": "markdown",
   "id": "ced690c6",
   "metadata": {},
   "source": [
    "## Model Tuning\n",
    "\n",
    "Choose one model from the above list. You should provide reasoning on why you have picked the model over others. Perform tuning for the selected model:\n",
    "- Hyper-parameter tuning. Your hyper-parameter search space should have at least 50 combinations.\n",
    "- To avoid overfitting and provide you with reasonable estimate of model performance on hold-out dataset, you will need to split your dataset as following:\n",
    "    - Train, will be used to train model\n",
    "    - Validation, will be used to validate model each round of training\n",
    "    - Testing, will be used to provide final performance metrics, used only once on the final model\n",
    "- Feature engineering. You should add at least two engineered features.  For example, add feature which is combination of two features.\n",
    "- If your model returns probability, calculate probability threshold to maximize F1. "
   ]
  },
  {
   "cell_type": "code",
   "execution_count": 21,
   "id": "674ab5b8",
   "metadata": {},
   "outputs": [],
   "source": [
    "# Feature Engineering, Percentage of the loan that is guaranteed by SBA\n",
    "SBA_loans['SBA_percent']=(SBA_loans['SBA_Appv']/SBA_loans['GrAppv']) * 100"
   ]
  },
  {
   "cell_type": "code",
   "execution_count": 22,
   "id": "e2736784",
   "metadata": {},
   "outputs": [
    {
     "data": {
      "text/plain": [
       "({'criterion': 'gini', 'max_depth': 15, 'min_samples_split': 8},\n",
       " 0.9358326622547976)"
      ]
     },
     "execution_count": 22,
     "metadata": {},
     "output_type": "execute_result"
    }
   ],
   "source": [
    "from sklearn.model_selection import GridSearchCV\n",
    "\n",
    "param_grid = {\"criterion\" : ['gini', 'entropy'],\n",
    "               \"max_depth\" : [3, 5, 10, 15, 20],\n",
    "               \"min_samples_split\" : [2, 4, 6, 8, 10]}\n",
    "\n",
    "data_clf = DecisionTreeClassifier(random_state=0)\n",
    "               \n",
    "data_cv1 = GridSearchCV(data_clf, param_grid, cv=5,scoring='f1_micro',n_jobs=4)\n",
    "\n",
    "data_cv1.fit(x_train, y_train)\n",
    "\n",
    "data_cv1.best_params_, data_cv1.best_score_"
   ]
  },
  {
   "cell_type": "code",
   "execution_count": 23,
   "id": "f2554ad8",
   "metadata": {},
   "outputs": [
    {
     "data": {
      "text/plain": [
       "array([1, 0, 0, ..., 0, 0, 1])"
      ]
     },
     "execution_count": 23,
     "metadata": {},
     "output_type": "execute_result"
    }
   ],
   "source": [
    "#using tuned model\n",
    "data_grid = data_cv1.best_estimator_\n",
    "data_grid.fit(x_train, y_train)\n",
    "data_pred_t = data_grid.predict(x_test)\n",
    "data_pred_t"
   ]
  },
  {
   "cell_type": "code",
   "execution_count": 24,
   "id": "90b28fe6",
   "metadata": {},
   "outputs": [
    {
     "name": "stdout",
     "output_type": "stream",
     "text": [
      "F1 Score: 0.8224963955659552\n",
      "Accuracy: 0.938132015240449\n",
      "Precision: 0.8325717156733737\n",
      "Recall: 0.8126620116298078\n"
     ]
    }
   ],
   "source": [
    "#evaluating the model\n",
    "data_f1=metrics.f1_score(y_test, data_pred_t)\n",
    "data_accuracy=metrics.accuracy_score(y_test, data_pred_t)\n",
    "data_precision=metrics.precision_score(y_test, data_pred_t)\n",
    "data_recall=metrics.recall_score(y_test, data_pred_t)\n",
    "\n",
    "print(\"F1 Score:\",data_f1)\n",
    "print(\"Accuracy:\",data_accuracy)\n",
    "print(\"Precision:\",data_precision)\n",
    "print(\"Recall:\",data_recall)"
   ]
  },
  {
   "cell_type": "markdown",
   "id": "30bc381c",
   "metadata": {},
   "source": [
    "## Save all artifacts\n",
    "\n",
    "Save all artifacts needed for scoring function:\n",
    "- Trained model\n",
    "- Encoders\n",
    "\n",
    "You should restart your Kernel now to properly test scoring function"
   ]
  },
  {
   "cell_type": "code",
   "execution_count": 25,
   "id": "4a1fba59",
   "metadata": {},
   "outputs": [],
   "source": [
    "import pandas as pd\n",
    "def train_model(SBA_loans):\n",
    "    import pickle\n",
    "    from sklearn.tree import DecisionTreeClassifier\n",
    "    from sklearn.model_selection import train_test_split\n",
    "    \n",
    "      #dealing with missing values\n",
    "    SBA_loans['City'] = SBA_loans['City'].replace(np.nan, SBA_loans['City'].mode()[0])                     \n",
    "    SBA_loans['State'] = SBA_loans['State'].replace(np.nan, SBA_loans['State'].mode()[0])                  \n",
    "    SBA_loans['Bank'] = SBA_loans['Bank'].replace(np.nan, SBA_loans['Bank'].mode()[0])                      \n",
    "    SBA_loans['BankState'] = SBA_loans['BankState'].replace(np.nan, SBA_loans['BankState'].mode()[0])       \n",
    "    SBA_loans['NewExist'] = SBA_loans['NewExist'].replace(np.nan, SBA_loans['NewExist'].mode()[0])          \n",
    "    SBA_loans['RevLineCr'] = SBA_loans['RevLineCr'].replace(np.nan, SBA_loans['RevLineCr'].mode()[0])       \n",
    "    SBA_loans['LowDoc'] = SBA_loans['LowDoc'].replace(np.nan, SBA_loans['LowDoc'].mode()[0])                \n",
    "    SBA_loans['MIS_Status'] = SBA_loans['MIS_Status'].replace(np.nan, SBA_loans['MIS_Status'].mode()[0])    \n",
    "\n",
    "    Columns=['DisbursementGross', 'BalanceGross', 'GrAppv', 'SBA_Appv']\n",
    "    for col in Columns:\n",
    "        SBA_loans[col] = SBA_loans[col].str.replace(',', '') \n",
    "        SBA_loans[col] = SBA_loans[col].str.replace('$', '') \n",
    "        SBA_loans[col] = SBA_loans[col].str.replace(' ', '') \n",
    "        SBA_loans[col] = SBA_loans[col].astype(float)  \n",
    "    \n",
    "    #Cleaning data\n",
    "    SBA_loans['MIS_Status'] = SBA_loans['MIS_Status'].replace({'P I F': 0, 'CHGOFF': 1})\n",
    "    SBA_loans.loc[SBA_loans['RevLineCr'] != 'Y', 'RevLineCr'] = 0\n",
    "    SBA_loans.loc[SBA_loans['RevLineCr'] == 'Y', 'RevLineCr'] = 1\n",
    "    SBA_loans['RevLineCr']=SBA_loans['RevLineCr'].astype(int)\n",
    "    \n",
    "    SBA_loans.loc[SBA_loans['LowDoc'] != 'Y', 'LowDoc'] = 0\n",
    "    SBA_loans.loc[SBA_loans['LowDoc'] == 'Y', 'LowDoc'] = 1\n",
    "    SBA_loans['LowDoc']=SBA_loans['LowDoc'].astype(int)\n",
    "    \n",
    "\n",
    "    columns_one_hot=['NewExist','UrbanRural']\n",
    "    cols_to_drop = []\n",
    "    \n",
    "    \n",
    "    for col in columns_one_hot:\n",
    "        one_hot_cols = pd.get_dummies(SBA_loans[col])\n",
    "        for ohc in one_hot_cols.columns:\n",
    "            SBA_loans[col + '_' + str(ohc)] = one_hot_cols[ohc]\n",
    "        cols_to_drop.append(col)\n",
    "\n",
    "    SBA_loans = SBA_loans.drop(columns=cols_to_drop)\n",
    "    \n",
    "    \n",
    "\n",
    "    import hashlib\n",
    "    columns_hash=['City','State','Bank','BankState']\n",
    "    lendata = len(SBA_loans)\n",
    "\n",
    "    for col in columns_hash:\n",
    "        SBA_loans[col] = SBA_loans[col].apply(lambda row: int(hashlib.sha1((col + \"_\" + str(row)).encode('utf-8')).hexdigest(), 16) % lendata)\n",
    "    \n",
    "\n",
    "    SBA_loans['SBA_percent']=(SBA_loans['SBA_Appv']/SBA_loans['GrAppv']) * 100\n",
    "    \n",
    "    from sklearn.model_selection import train_test_split\n",
    "\n",
    " \n",
    "    x = SBA_loans.drop(columns='MIS_Status')\n",
    "    y = SBA_loans['MIS_Status']\n",
    "\n",
    "    #Train Test Split the data in 70:30 ratio\n",
    "    x_train, x_test, y_train, y_test = train_test_split(x, y,test_size=0.3,random_state=25)\n",
    "    \n",
    "    \n",
    "    data_clf = DecisionTreeClassifier(random_state=0, criterion= 'gini', max_depth= 15, min_samples_split= 8)\n",
    "    \n",
    "  \n",
    "    data_clf.fit(x_train, y_train)\n",
    "    \n",
    "    data_file = open(\"data_model.pkl\", \"wb\")\n",
    "    pickle.dump(obj=data_clf, file=data_file)\n",
    "    \n",
    "    data_file.close()\n",
    "    \n",
    "    \n",
    "    return data_clf"
   ]
  },
  {
   "cell_type": "code",
   "execution_count": 26,
   "id": "76fe1331",
   "metadata": {},
   "outputs": [
    {
     "data": {
      "text/plain": [
       "DecisionTreeClassifier(max_depth=15, min_samples_split=8, random_state=0)"
      ]
     },
     "execution_count": 26,
     "metadata": {},
     "output_type": "execute_result"
    }
   ],
   "source": [
    "dataf1=dataf.copy()\n",
    "train_model(dataf1)"
   ]
  },
  {
   "cell_type": "markdown",
   "id": "a0d2e830",
   "metadata": {},
   "source": [
    "## Model Scoring\n",
    "\n",
    "Write function that will load artifacts from above, transform and score on a new dataset.\n",
    "Your function should return Python list of labels. For example: [0,1,0,1,1,0,0]\n"
   ]
  },
  {
   "cell_type": "code",
   "execution_count": 27,
   "id": "ae1929ab",
   "metadata": {},
   "outputs": [],
   "source": [
    "import pandas as pd\n",
    "def project_1_scoring(SBA_loans):\n",
    "    import pickle\n",
    "    \n",
    "    'Load Model and encoder'\n",
    "    data_file = open(\"data_model.pkl\", \"rb\")\n",
    "    clf = pickle.load(file=data_file)\n",
    "\n",
    "    'Pre-Processing Data'\n",
    "    #dealing with missing values\n",
    "    SBA_loans['City'] = SBA_loans['City'].replace(np.nan, SBA_loans['City'].mode()[0])                      \n",
    "    SBA_loans['State'] = SBA_loans['State'].replace(np.nan, SBA_loans['State'].mode()[0])                   \n",
    "    SBA_loans['Bank'] = SBA_loans['Bank'].replace(np.nan, SBA_loans['Bank'].mode()[0])                     \n",
    "    SBA_loans['BankState'] = SBA_loans['BankState'].replace(np.nan, SBA_loans['BankState'].mode()[0])       \n",
    "    SBA_loans['NewExist'] = SBA_loans['NewExist'].replace(np.nan, SBA_loans['NewExist'].mode()[0])          \n",
    "    SBA_loans['RevLineCr'] = SBA_loans['RevLineCr'].replace(np.nan, SBA_loans['RevLineCr'].mode()[0])       \n",
    "    SBA_loans['LowDoc'] = SBA_loans['LowDoc'].replace(np.nan, SBA_loans['LowDoc'].mode()[0])                \n",
    "    SBA_loans['MIS_Status'] = SBA_loans['MIS_Status'].replace(np.nan, SBA_loans['MIS_Status'].mode()[0])    \n",
    "    \n",
    "    Columns=['DisbursementGross', 'BalanceGross', 'GrAppv', 'SBA_Appv']\n",
    "    for col in Columns:\n",
    "        SBA_loans[col] = SBA_loans[col].str.replace(',', '')\n",
    "        SBA_loans[col] = SBA_loans[col].str.replace('$', '') \n",
    "        SBA_loans[col] = SBA_loans[col].str.replace(' ', '') \n",
    "        SBA_loans[col] = SBA_loans[col].astype(float)  \n",
    "    \n",
    "    #Cleaning data\n",
    "    SBA_loans['MIS_Status'] = SBA_loans['MIS_Status'].replace({'P I F': 0, 'CHGOFF': 1})\n",
    "    SBA_loans.loc[SBA_loans['RevLineCr'] != 'Y', 'RevLineCr'] = 0\n",
    "    SBA_loans.loc[SBA_loans['RevLineCr'] == 'Y', 'RevLineCr'] = 1\n",
    "    SBA_loans['RevLineCr']=SBA_loans['RevLineCr'].astype(int)\n",
    "    \n",
    "    SBA_loans.loc[SBA_loans['LowDoc'] != 'Y', 'LowDoc'] = 0\n",
    "    SBA_loans.loc[SBA_loans['LowDoc'] == 'Y', 'LowDoc'] = 1\n",
    "    SBA_loans['LowDoc']=SBA_loans['LowDoc'].astype(int)\n",
    "    \n",
    "    columns_one_hot=['NewExist','UrbanRural']\n",
    "    cols_to_drop = []\n",
    "    \n",
    "    \n",
    "    for col in columns_one_hot:\n",
    "        one_hot_cols = pd.get_dummies(SBA_loans[col])\n",
    "        for ohc in one_hot_cols.columns:\n",
    "            SBA_loans[col + '_' + str(ohc)] = one_hot_cols[ohc]\n",
    "        cols_to_drop.append(col)\n",
    "\n",
    "    SBA_loans = SBA_loans.drop(columns=cols_to_drop)\n",
    "    \n",
    "    \n",
    "    import hashlib\n",
    "    columns_hash=['City','State','Bank','BankState']\n",
    "    lendata = len(SBA_loans)\n",
    "\n",
    "    for col in columns_hash:\n",
    "        SBA_loans[col] = SBA_loans[col].apply(lambda row: int(hashlib.sha1((col + \"_\" + str(row)).encode('utf-8')).hexdigest(), 16) % lendata)\n",
    "    \n",
    "  \n",
    "    SBA_loans['SBA_percent']=(SBA_loans['SBA_Appv']/SBA_loans['GrAppv']) * 100\n",
    "    \n",
    "   \n",
    "    x = SBA_loans.drop(columns='MIS_Status')\n",
    "    y_pred = clf.predict(x)\n",
    "    \n",
    "    data_file.close()\n",
    "    \n",
    "    return y_pred"
   ]
  },
  {
   "cell_type": "code",
   "execution_count": 28,
   "id": "dba40e97",
   "metadata": {},
   "outputs": [
    {
     "name": "stdout",
     "output_type": "stream",
     "text": [
      "Scoring results: [0 0 0 ... 0 0 0]\n"
     ]
    },
    {
     "data": {
      "text/plain": [
       "numpy.ndarray"
      ]
     },
     "execution_count": 28,
     "metadata": {},
     "output_type": "execute_result"
    }
   ],
   "source": [
    "dataf2=dataf.copy()\n",
    "result=project_1_scoring(dataf2)\n",
    "print(\"Scoring results:\",result)\n",
    "type(result)"
   ]
  }
 ],
 "metadata": {
  "kernelspec": {
   "display_name": "Python 3 (ipykernel)",
   "language": "python",
   "name": "python3"
  },
  "language_info": {
   "codemirror_mode": {
    "name": "ipython",
    "version": 3
   },
   "file_extension": ".py",
   "mimetype": "text/x-python",
   "name": "python",
   "nbconvert_exporter": "python",
   "pygments_lexer": "ipython3",
   "version": "3.9.7"
  }
 },
 "nbformat": 4,
 "nbformat_minor": 5
}
