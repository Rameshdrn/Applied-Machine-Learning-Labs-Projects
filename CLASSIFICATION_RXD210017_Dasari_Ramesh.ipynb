{
  "cells": [
    {
      "cell_type": "markdown",
      "id": "bb1fa155",
      "metadata": {
        "id": "bb1fa155"
      },
      "source": [
        "# Importing the packages"
      ]
    },
    {
      "cell_type": "code",
      "execution_count": 1,
      "id": "45884708",
      "metadata": {
        "colab": {
          "base_uri": "https://localhost:8080/"
        },
        "id": "45884708",
        "outputId": "3dfdb328-fd4a-4762-a98e-3bc7648b0647"
      },
      "outputs": [
        {
          "output_type": "stream",
          "name": "stdout",
          "text": [
            "Requirement already satisfied: imblearn in /usr/local/lib/python3.7/dist-packages (0.0)\n",
            "Requirement already satisfied: imbalanced-learn in /usr/local/lib/python3.7/dist-packages (from imblearn) (0.8.1)\n",
            "Requirement already satisfied: joblib>=0.11 in /usr/local/lib/python3.7/dist-packages (from imbalanced-learn->imblearn) (1.1.0)\n",
            "Requirement already satisfied: scipy>=0.19.1 in /usr/local/lib/python3.7/dist-packages (from imbalanced-learn->imblearn) (1.4.1)\n",
            "Requirement already satisfied: numpy>=1.13.3 in /usr/local/lib/python3.7/dist-packages (from imbalanced-learn->imblearn) (1.21.6)\n",
            "Requirement already satisfied: scikit-learn>=0.24 in /usr/local/lib/python3.7/dist-packages (from imbalanced-learn->imblearn) (1.0.2)\n",
            "Requirement already satisfied: threadpoolctl>=2.0.0 in /usr/local/lib/python3.7/dist-packages (from scikit-learn>=0.24->imbalanced-learn->imblearn) (3.1.0)\n",
            "Requirement already satisfied: numpy in /usr/local/lib/python3.7/dist-packages (1.21.6)\n",
            "Requirement already satisfied: scipy in /usr/local/lib/python3.7/dist-packages (1.4.1)\n",
            "Collecting scipy\n",
            "  Downloading scipy-1.7.3-cp37-cp37m-manylinux_2_12_x86_64.manylinux2010_x86_64.whl (38.1 MB)\n",
            "\u001b[K     |████████████████████████████████| 38.1 MB 1.2 MB/s \n",
            "\u001b[?25hRequirement already satisfied: scikit-learn in /usr/local/lib/python3.7/dist-packages (1.0.2)\n",
            "Requirement already satisfied: threadpoolctl>=2.0.0 in /usr/local/lib/python3.7/dist-packages (from scikit-learn) (3.1.0)\n",
            "Requirement already satisfied: joblib>=0.11 in /usr/local/lib/python3.7/dist-packages (from scikit-learn) (1.1.0)\n",
            "Installing collected packages: scipy\n",
            "  Attempting uninstall: scipy\n",
            "    Found existing installation: scipy 1.4.1\n",
            "    Uninstalling scipy-1.4.1:\n",
            "      Successfully uninstalled scipy-1.4.1\n",
            "\u001b[31mERROR: pip's dependency resolver does not currently take into account all the packages that are installed. This behaviour is the source of the following dependency conflicts.\n",
            "albumentations 0.1.12 requires imgaug<0.2.7,>=0.2.5, but you have imgaug 0.2.9 which is incompatible.\u001b[0m\n",
            "Successfully installed scipy-1.7.3\n"
          ]
        }
      ],
      "source": [
        "!pip install imblearn\n",
        "!pip install -U numpy scipy scikit-learn\n",
        "import warnings\n",
        "\n",
        "warnings.filterwarnings(\"ignore\")\n",
        "\n",
        "# Libraries to help with reading and manipulating data\n",
        "import numpy as np\n",
        "import pandas as pd\n",
        "\n",
        "# Library to split data\n",
        "from sklearn.model_selection import train_test_split\n",
        "from sklearn.preprocessing import LabelEncoder,StandardScaler\n",
        "\n",
        "# libaries to help with data visualization\n",
        "import matplotlib.pyplot as plt\n",
        "import seaborn as sns\n",
        "\n",
        "# Removes the limit for the number of displayed columns\n",
        "pd.set_option(\"display.max_columns\", None)\n",
        "# Sets the limit for the number of displayed rows\n",
        "pd.set_option(\"display.max_rows\", 100)\n",
        "\n",
        "# To oversample and undersample data\n",
        "from imblearn.over_sampling import SMOTE\n",
        "from imblearn.under_sampling import RandomUnderSampler\n",
        "\n",
        "# Libraries different ensemble classifiers\n",
        "from sklearn.svm import SVC\n",
        "from sklearn.ensemble import RandomForestClassifier,AdaBoostClassifier\n",
        "from sklearn.linear_model import LogisticRegression\n",
        "from sklearn.neighbors import KNeighborsClassifier\n",
        "from sklearn.tree import DecisionTreeClassifier\n",
        "\n",
        "from xgboost import XGBClassifier\n",
        "from sklearn.tree import DecisionTreeClassifier\n",
        "\n",
        "# Libraries to get different metric scores\n",
        "from sklearn import metrics\n",
        "from sklearn.metrics import (\n",
        "    confusion_matrix,\n",
        "    accuracy_score,\n",
        "    precision_score,\n",
        "    recall_score,\n",
        "    f1_score,\n",
        ")\n",
        "from xgboost import XGBClassifier\n",
        "\n",
        "import math"
      ]
    },
    {
      "cell_type": "code",
      "execution_count": 51,
      "id": "a0de0b2d",
      "metadata": {
        "colab": {
          "base_uri": "https://localhost:8080/",
          "height": 748
        },
        "id": "a0de0b2d",
        "outputId": "129869fe-724d-44c5-9b4a-08d4fe7c9d05"
      },
      "outputs": [
        {
          "output_type": "execute_result",
          "data": {
            "text/plain": [
              "                         City State    Zip                            Bank  \\\n",
              "0                     BRADLEY    WV  25818     CITY NATL BK OF W. VIRGINIA   \n",
              "1                    LA JOLLA    CA  92037  U.S. BANK NATIONAL ASSOCIATION   \n",
              "2                     WINSLOW    AZ  86047  SOUTHWESTERN BUS. FINANCING CO   \n",
              "3                      OXNARD    CA  93030              CITY NATIONAL BANK   \n",
              "4                    MERIDIAN    MS  39301         TRUSTMARK NATIONAL BANK   \n",
              "...                       ...   ...    ...                             ...   \n",
              "809242                   KENT    WA  98030  U.S. BANK NATIONAL ASSOCIATION   \n",
              "809243          PROSPECT PARK    PA  19076   TD BANK, NATIONAL ASSOCIATION   \n",
              "809244            CASTLE ROCK    CO  80104   COLORADO LENDING SOURCE, LTD.   \n",
              "809245  CHEEKTOWAGA (TOWN OF)    NY  14227      BANK OF AMERICA NATL ASSOC   \n",
              "809246               STERLING    VA  20164            WASHINGTONFIRST BANK   \n",
              "\n",
              "       BankState   NAICS  NoEmp  NewExist  CreateJob  RetainedJob  \\\n",
              "0             WV       0      7       1.0          0            0   \n",
              "1             OH  531210      1       2.0          0            1   \n",
              "2             AZ  721110     30       1.0          0            1   \n",
              "3             CA       0      8       1.0          0            0   \n",
              "4             MS       0      4       2.0          0            0   \n",
              "...          ...     ...    ...       ...        ...          ...   \n",
              "809242        OH  812112      4       1.0          0            4   \n",
              "809243        DE  811113      1       1.0          3            1   \n",
              "809244        CO  441310      5       1.0         10            5   \n",
              "809245        RI  445110      9       1.0          3           12   \n",
              "809246        VA  233320      4       2.0          0            0   \n",
              "\n",
              "        FranchiseCode  UrbanRural RevLineCr LowDoc DisbursementGross  \\\n",
              "0                   1           0         N      Y       $30,000.00    \n",
              "1                   0           1         Y      N       $50,000.00    \n",
              "2               10465           2         0      N    $1,297,000.00    \n",
              "3                   1           0         N      N      $510,000.00    \n",
              "4                   1           0         N      N       $87,000.00    \n",
              "...               ...         ...       ...    ...               ...   \n",
              "809242              0           1         Y      N       $28,938.00    \n",
              "809243          20550           2         0      N      $150,000.00    \n",
              "809244              1           1         N      N      $142,000.00    \n",
              "809245              1           1         0      N       $28,400.00    \n",
              "809246              1           1         N      N      $100,000.00    \n",
              "\n",
              "       BalanceGross          GrAppv        SBA_Appv MIS_Status  \n",
              "0            $0.00      $30,000.00      $27,000.00       P I F  \n",
              "1            $0.00      $50,000.00      $25,000.00       P I F  \n",
              "2            $0.00   $1,300,000.00   $1,300,000.00       P I F  \n",
              "3            $0.00     $510,000.00     $433,500.00       P I F  \n",
              "4            $0.00      $87,000.00      $78,300.00       P I F  \n",
              "...             ...             ...             ...        ...  \n",
              "809242       $0.00      $20,000.00      $10,000.00       P I F  \n",
              "809243       $0.00     $150,000.00     $127,500.00       P I F  \n",
              "809244       $0.00     $165,000.00     $165,000.00       P I F  \n",
              "809245       $0.00      $28,400.00      $14,200.00      CHGOFF  \n",
              "809246       $0.00     $100,000.00      $75,000.00       P I F  \n",
              "\n",
              "[809247 rows x 19 columns]"
            ],
            "text/html": [
              "\n",
              "  <div id=\"df-faf28559-fb33-4e6a-bda6-e752deed833b\">\n",
              "    <div class=\"colab-df-container\">\n",
              "      <div>\n",
              "<style scoped>\n",
              "    .dataframe tbody tr th:only-of-type {\n",
              "        vertical-align: middle;\n",
              "    }\n",
              "\n",
              "    .dataframe tbody tr th {\n",
              "        vertical-align: top;\n",
              "    }\n",
              "\n",
              "    .dataframe thead th {\n",
              "        text-align: right;\n",
              "    }\n",
              "</style>\n",
              "<table border=\"1\" class=\"dataframe\">\n",
              "  <thead>\n",
              "    <tr style=\"text-align: right;\">\n",
              "      <th></th>\n",
              "      <th>City</th>\n",
              "      <th>State</th>\n",
              "      <th>Zip</th>\n",
              "      <th>Bank</th>\n",
              "      <th>BankState</th>\n",
              "      <th>NAICS</th>\n",
              "      <th>NoEmp</th>\n",
              "      <th>NewExist</th>\n",
              "      <th>CreateJob</th>\n",
              "      <th>RetainedJob</th>\n",
              "      <th>FranchiseCode</th>\n",
              "      <th>UrbanRural</th>\n",
              "      <th>RevLineCr</th>\n",
              "      <th>LowDoc</th>\n",
              "      <th>DisbursementGross</th>\n",
              "      <th>BalanceGross</th>\n",
              "      <th>GrAppv</th>\n",
              "      <th>SBA_Appv</th>\n",
              "      <th>MIS_Status</th>\n",
              "    </tr>\n",
              "  </thead>\n",
              "  <tbody>\n",
              "    <tr>\n",
              "      <th>0</th>\n",
              "      <td>BRADLEY</td>\n",
              "      <td>WV</td>\n",
              "      <td>25818</td>\n",
              "      <td>CITY NATL BK OF W. VIRGINIA</td>\n",
              "      <td>WV</td>\n",
              "      <td>0</td>\n",
              "      <td>7</td>\n",
              "      <td>1.0</td>\n",
              "      <td>0</td>\n",
              "      <td>0</td>\n",
              "      <td>1</td>\n",
              "      <td>0</td>\n",
              "      <td>N</td>\n",
              "      <td>Y</td>\n",
              "      <td>$30,000.00</td>\n",
              "      <td>$0.00</td>\n",
              "      <td>$30,000.00</td>\n",
              "      <td>$27,000.00</td>\n",
              "      <td>P I F</td>\n",
              "    </tr>\n",
              "    <tr>\n",
              "      <th>1</th>\n",
              "      <td>LA JOLLA</td>\n",
              "      <td>CA</td>\n",
              "      <td>92037</td>\n",
              "      <td>U.S. BANK NATIONAL ASSOCIATION</td>\n",
              "      <td>OH</td>\n",
              "      <td>531210</td>\n",
              "      <td>1</td>\n",
              "      <td>2.0</td>\n",
              "      <td>0</td>\n",
              "      <td>1</td>\n",
              "      <td>0</td>\n",
              "      <td>1</td>\n",
              "      <td>Y</td>\n",
              "      <td>N</td>\n",
              "      <td>$50,000.00</td>\n",
              "      <td>$0.00</td>\n",
              "      <td>$50,000.00</td>\n",
              "      <td>$25,000.00</td>\n",
              "      <td>P I F</td>\n",
              "    </tr>\n",
              "    <tr>\n",
              "      <th>2</th>\n",
              "      <td>WINSLOW</td>\n",
              "      <td>AZ</td>\n",
              "      <td>86047</td>\n",
              "      <td>SOUTHWESTERN BUS. FINANCING CO</td>\n",
              "      <td>AZ</td>\n",
              "      <td>721110</td>\n",
              "      <td>30</td>\n",
              "      <td>1.0</td>\n",
              "      <td>0</td>\n",
              "      <td>1</td>\n",
              "      <td>10465</td>\n",
              "      <td>2</td>\n",
              "      <td>0</td>\n",
              "      <td>N</td>\n",
              "      <td>$1,297,000.00</td>\n",
              "      <td>$0.00</td>\n",
              "      <td>$1,300,000.00</td>\n",
              "      <td>$1,300,000.00</td>\n",
              "      <td>P I F</td>\n",
              "    </tr>\n",
              "    <tr>\n",
              "      <th>3</th>\n",
              "      <td>OXNARD</td>\n",
              "      <td>CA</td>\n",
              "      <td>93030</td>\n",
              "      <td>CITY NATIONAL BANK</td>\n",
              "      <td>CA</td>\n",
              "      <td>0</td>\n",
              "      <td>8</td>\n",
              "      <td>1.0</td>\n",
              "      <td>0</td>\n",
              "      <td>0</td>\n",
              "      <td>1</td>\n",
              "      <td>0</td>\n",
              "      <td>N</td>\n",
              "      <td>N</td>\n",
              "      <td>$510,000.00</td>\n",
              "      <td>$0.00</td>\n",
              "      <td>$510,000.00</td>\n",
              "      <td>$433,500.00</td>\n",
              "      <td>P I F</td>\n",
              "    </tr>\n",
              "    <tr>\n",
              "      <th>4</th>\n",
              "      <td>MERIDIAN</td>\n",
              "      <td>MS</td>\n",
              "      <td>39301</td>\n",
              "      <td>TRUSTMARK NATIONAL BANK</td>\n",
              "      <td>MS</td>\n",
              "      <td>0</td>\n",
              "      <td>4</td>\n",
              "      <td>2.0</td>\n",
              "      <td>0</td>\n",
              "      <td>0</td>\n",
              "      <td>1</td>\n",
              "      <td>0</td>\n",
              "      <td>N</td>\n",
              "      <td>N</td>\n",
              "      <td>$87,000.00</td>\n",
              "      <td>$0.00</td>\n",
              "      <td>$87,000.00</td>\n",
              "      <td>$78,300.00</td>\n",
              "      <td>P I F</td>\n",
              "    </tr>\n",
              "    <tr>\n",
              "      <th>...</th>\n",
              "      <td>...</td>\n",
              "      <td>...</td>\n",
              "      <td>...</td>\n",
              "      <td>...</td>\n",
              "      <td>...</td>\n",
              "      <td>...</td>\n",
              "      <td>...</td>\n",
              "      <td>...</td>\n",
              "      <td>...</td>\n",
              "      <td>...</td>\n",
              "      <td>...</td>\n",
              "      <td>...</td>\n",
              "      <td>...</td>\n",
              "      <td>...</td>\n",
              "      <td>...</td>\n",
              "      <td>...</td>\n",
              "      <td>...</td>\n",
              "      <td>...</td>\n",
              "      <td>...</td>\n",
              "    </tr>\n",
              "    <tr>\n",
              "      <th>809242</th>\n",
              "      <td>KENT</td>\n",
              "      <td>WA</td>\n",
              "      <td>98030</td>\n",
              "      <td>U.S. BANK NATIONAL ASSOCIATION</td>\n",
              "      <td>OH</td>\n",
              "      <td>812112</td>\n",
              "      <td>4</td>\n",
              "      <td>1.0</td>\n",
              "      <td>0</td>\n",
              "      <td>4</td>\n",
              "      <td>0</td>\n",
              "      <td>1</td>\n",
              "      <td>Y</td>\n",
              "      <td>N</td>\n",
              "      <td>$28,938.00</td>\n",
              "      <td>$0.00</td>\n",
              "      <td>$20,000.00</td>\n",
              "      <td>$10,000.00</td>\n",
              "      <td>P I F</td>\n",
              "    </tr>\n",
              "    <tr>\n",
              "      <th>809243</th>\n",
              "      <td>PROSPECT PARK</td>\n",
              "      <td>PA</td>\n",
              "      <td>19076</td>\n",
              "      <td>TD BANK, NATIONAL ASSOCIATION</td>\n",
              "      <td>DE</td>\n",
              "      <td>811113</td>\n",
              "      <td>1</td>\n",
              "      <td>1.0</td>\n",
              "      <td>3</td>\n",
              "      <td>1</td>\n",
              "      <td>20550</td>\n",
              "      <td>2</td>\n",
              "      <td>0</td>\n",
              "      <td>N</td>\n",
              "      <td>$150,000.00</td>\n",
              "      <td>$0.00</td>\n",
              "      <td>$150,000.00</td>\n",
              "      <td>$127,500.00</td>\n",
              "      <td>P I F</td>\n",
              "    </tr>\n",
              "    <tr>\n",
              "      <th>809244</th>\n",
              "      <td>CASTLE ROCK</td>\n",
              "      <td>CO</td>\n",
              "      <td>80104</td>\n",
              "      <td>COLORADO LENDING SOURCE, LTD.</td>\n",
              "      <td>CO</td>\n",
              "      <td>441310</td>\n",
              "      <td>5</td>\n",
              "      <td>1.0</td>\n",
              "      <td>10</td>\n",
              "      <td>5</td>\n",
              "      <td>1</td>\n",
              "      <td>1</td>\n",
              "      <td>N</td>\n",
              "      <td>N</td>\n",
              "      <td>$142,000.00</td>\n",
              "      <td>$0.00</td>\n",
              "      <td>$165,000.00</td>\n",
              "      <td>$165,000.00</td>\n",
              "      <td>P I F</td>\n",
              "    </tr>\n",
              "    <tr>\n",
              "      <th>809245</th>\n",
              "      <td>CHEEKTOWAGA (TOWN OF)</td>\n",
              "      <td>NY</td>\n",
              "      <td>14227</td>\n",
              "      <td>BANK OF AMERICA NATL ASSOC</td>\n",
              "      <td>RI</td>\n",
              "      <td>445110</td>\n",
              "      <td>9</td>\n",
              "      <td>1.0</td>\n",
              "      <td>3</td>\n",
              "      <td>12</td>\n",
              "      <td>1</td>\n",
              "      <td>1</td>\n",
              "      <td>0</td>\n",
              "      <td>N</td>\n",
              "      <td>$28,400.00</td>\n",
              "      <td>$0.00</td>\n",
              "      <td>$28,400.00</td>\n",
              "      <td>$14,200.00</td>\n",
              "      <td>CHGOFF</td>\n",
              "    </tr>\n",
              "    <tr>\n",
              "      <th>809246</th>\n",
              "      <td>STERLING</td>\n",
              "      <td>VA</td>\n",
              "      <td>20164</td>\n",
              "      <td>WASHINGTONFIRST BANK</td>\n",
              "      <td>VA</td>\n",
              "      <td>233320</td>\n",
              "      <td>4</td>\n",
              "      <td>2.0</td>\n",
              "      <td>0</td>\n",
              "      <td>0</td>\n",
              "      <td>1</td>\n",
              "      <td>1</td>\n",
              "      <td>N</td>\n",
              "      <td>N</td>\n",
              "      <td>$100,000.00</td>\n",
              "      <td>$0.00</td>\n",
              "      <td>$100,000.00</td>\n",
              "      <td>$75,000.00</td>\n",
              "      <td>P I F</td>\n",
              "    </tr>\n",
              "  </tbody>\n",
              "</table>\n",
              "<p>809247 rows × 19 columns</p>\n",
              "</div>\n",
              "      <button class=\"colab-df-convert\" onclick=\"convertToInteractive('df-faf28559-fb33-4e6a-bda6-e752deed833b')\"\n",
              "              title=\"Convert this dataframe to an interactive table.\"\n",
              "              style=\"display:none;\">\n",
              "        \n",
              "  <svg xmlns=\"http://www.w3.org/2000/svg\" height=\"24px\"viewBox=\"0 0 24 24\"\n",
              "       width=\"24px\">\n",
              "    <path d=\"M0 0h24v24H0V0z\" fill=\"none\"/>\n",
              "    <path d=\"M18.56 5.44l.94 2.06.94-2.06 2.06-.94-2.06-.94-.94-2.06-.94 2.06-2.06.94zm-11 1L8.5 8.5l.94-2.06 2.06-.94-2.06-.94L8.5 2.5l-.94 2.06-2.06.94zm10 10l.94 2.06.94-2.06 2.06-.94-2.06-.94-.94-2.06-.94 2.06-2.06.94z\"/><path d=\"M17.41 7.96l-1.37-1.37c-.4-.4-.92-.59-1.43-.59-.52 0-1.04.2-1.43.59L10.3 9.45l-7.72 7.72c-.78.78-.78 2.05 0 2.83L4 21.41c.39.39.9.59 1.41.59.51 0 1.02-.2 1.41-.59l7.78-7.78 2.81-2.81c.8-.78.8-2.07 0-2.86zM5.41 20L4 18.59l7.72-7.72 1.47 1.35L5.41 20z\"/>\n",
              "  </svg>\n",
              "      </button>\n",
              "      \n",
              "  <style>\n",
              "    .colab-df-container {\n",
              "      display:flex;\n",
              "      flex-wrap:wrap;\n",
              "      gap: 12px;\n",
              "    }\n",
              "\n",
              "    .colab-df-convert {\n",
              "      background-color: #E8F0FE;\n",
              "      border: none;\n",
              "      border-radius: 50%;\n",
              "      cursor: pointer;\n",
              "      display: none;\n",
              "      fill: #1967D2;\n",
              "      height: 32px;\n",
              "      padding: 0 0 0 0;\n",
              "      width: 32px;\n",
              "    }\n",
              "\n",
              "    .colab-df-convert:hover {\n",
              "      background-color: #E2EBFA;\n",
              "      box-shadow: 0px 1px 2px rgba(60, 64, 67, 0.3), 0px 1px 3px 1px rgba(60, 64, 67, 0.15);\n",
              "      fill: #174EA6;\n",
              "    }\n",
              "\n",
              "    [theme=dark] .colab-df-convert {\n",
              "      background-color: #3B4455;\n",
              "      fill: #D2E3FC;\n",
              "    }\n",
              "\n",
              "    [theme=dark] .colab-df-convert:hover {\n",
              "      background-color: #434B5C;\n",
              "      box-shadow: 0px 1px 3px 1px rgba(0, 0, 0, 0.15);\n",
              "      filter: drop-shadow(0px 1px 2px rgba(0, 0, 0, 0.3));\n",
              "      fill: #FFFFFF;\n",
              "    }\n",
              "  </style>\n",
              "\n",
              "      <script>\n",
              "        const buttonEl =\n",
              "          document.querySelector('#df-faf28559-fb33-4e6a-bda6-e752deed833b button.colab-df-convert');\n",
              "        buttonEl.style.display =\n",
              "          google.colab.kernel.accessAllowed ? 'block' : 'none';\n",
              "\n",
              "        async function convertToInteractive(key) {\n",
              "          const element = document.querySelector('#df-faf28559-fb33-4e6a-bda6-e752deed833b');\n",
              "          const dataTable =\n",
              "            await google.colab.kernel.invokeFunction('convertToInteractive',\n",
              "                                                     [key], {});\n",
              "          if (!dataTable) return;\n",
              "\n",
              "          const docLinkHtml = 'Like what you see? Visit the ' +\n",
              "            '<a target=\"_blank\" href=https://colab.research.google.com/notebooks/data_table.ipynb>data table notebook</a>'\n",
              "            + ' to learn more about interactive tables.';\n",
              "          element.innerHTML = '';\n",
              "          dataTable['output_type'] = 'display_data';\n",
              "          await google.colab.output.renderOutput(dataTable, element);\n",
              "          const docLink = document.createElement('div');\n",
              "          docLink.innerHTML = docLinkHtml;\n",
              "          element.appendChild(docLink);\n",
              "        }\n",
              "      </script>\n",
              "    </div>\n",
              "  </div>\n",
              "  "
            ]
          },
          "metadata": {},
          "execution_count": 51
        }
      ],
      "source": [
        "# Load the dataset\n",
        "dataframe = pd.read_csv('SBA_loans_project_2.csv')\n",
        "dataframe"
      ]
    },
    {
      "cell_type": "code",
      "execution_count": 52,
      "id": "836a477b",
      "metadata": {
        "colab": {
          "base_uri": "https://localhost:8080/"
        },
        "id": "836a477b",
        "outputId": "70e6108a-715c-4137-addc-64f04206e835"
      },
      "outputs": [
        {
          "output_type": "execute_result",
          "data": {
            "text/plain": [
              "812"
            ]
          },
          "metadata": {},
          "execution_count": 52
        }
      ],
      "source": [
        "dataframe.duplicated().sum()"
      ]
    },
    {
      "cell_type": "code",
      "execution_count": 53,
      "id": "d98ad5ff",
      "metadata": {
        "id": "d98ad5ff"
      },
      "outputs": [],
      "source": [
        "# drop duplicates\n",
        "dataframe = dataframe.drop_duplicates()"
      ]
    },
    {
      "cell_type": "markdown",
      "id": "deb62853",
      "metadata": {
        "id": "deb62853"
      },
      "source": [
        "# Data Preprocessing"
      ]
    },
    {
      "cell_type": "code",
      "execution_count": 54,
      "id": "2314fdb8",
      "metadata": {
        "colab": {
          "base_uri": "https://localhost:8080/",
          "height": 300
        },
        "id": "2314fdb8",
        "outputId": "6ea6533f-c504-4f51-809d-3be9bacd4961"
      },
      "outputs": [
        {
          "output_type": "execute_result",
          "data": {
            "text/plain": [
              "                 Zip          NAICS          NoEmp       NewExist  \\\n",
              "count  808435.000000  808435.000000  808435.000000  808314.000000   \n",
              "mean    53808.598008  398779.951683      11.415145       1.280324   \n",
              "std     31188.549172  263296.675165      74.521646       0.451685   \n",
              "min         0.000000       0.000000       0.000000       0.000000   \n",
              "25%     27587.000000  235210.000000       2.000000       1.000000   \n",
              "50%     55410.000000  445310.000000       4.000000       1.000000   \n",
              "75%     83705.000000  561730.000000      10.000000       2.000000   \n",
              "max     99999.000000  928120.000000    9999.000000       2.000000   \n",
              "\n",
              "           CreateJob    RetainedJob  FranchiseCode     UrbanRural  \n",
              "count  808435.000000  808435.000000  808435.000000  808435.000000  \n",
              "mean        8.544307      10.912164    2749.329053       0.757950  \n",
              "std       238.790864     239.233022   12743.272225       0.646502  \n",
              "min         0.000000       0.000000       0.000000       0.000000  \n",
              "25%         0.000000       0.000000       1.000000       0.000000  \n",
              "50%         0.000000       1.000000       1.000000       1.000000  \n",
              "75%         1.000000       4.000000       1.000000       1.000000  \n",
              "max      8800.000000    9500.000000   99999.000000       2.000000  "
            ],
            "text/html": [
              "\n",
              "  <div id=\"df-bea7f86f-13df-4d67-adda-c9302a2d890b\">\n",
              "    <div class=\"colab-df-container\">\n",
              "      <div>\n",
              "<style scoped>\n",
              "    .dataframe tbody tr th:only-of-type {\n",
              "        vertical-align: middle;\n",
              "    }\n",
              "\n",
              "    .dataframe tbody tr th {\n",
              "        vertical-align: top;\n",
              "    }\n",
              "\n",
              "    .dataframe thead th {\n",
              "        text-align: right;\n",
              "    }\n",
              "</style>\n",
              "<table border=\"1\" class=\"dataframe\">\n",
              "  <thead>\n",
              "    <tr style=\"text-align: right;\">\n",
              "      <th></th>\n",
              "      <th>Zip</th>\n",
              "      <th>NAICS</th>\n",
              "      <th>NoEmp</th>\n",
              "      <th>NewExist</th>\n",
              "      <th>CreateJob</th>\n",
              "      <th>RetainedJob</th>\n",
              "      <th>FranchiseCode</th>\n",
              "      <th>UrbanRural</th>\n",
              "    </tr>\n",
              "  </thead>\n",
              "  <tbody>\n",
              "    <tr>\n",
              "      <th>count</th>\n",
              "      <td>808435.000000</td>\n",
              "      <td>808435.000000</td>\n",
              "      <td>808435.000000</td>\n",
              "      <td>808314.000000</td>\n",
              "      <td>808435.000000</td>\n",
              "      <td>808435.000000</td>\n",
              "      <td>808435.000000</td>\n",
              "      <td>808435.000000</td>\n",
              "    </tr>\n",
              "    <tr>\n",
              "      <th>mean</th>\n",
              "      <td>53808.598008</td>\n",
              "      <td>398779.951683</td>\n",
              "      <td>11.415145</td>\n",
              "      <td>1.280324</td>\n",
              "      <td>8.544307</td>\n",
              "      <td>10.912164</td>\n",
              "      <td>2749.329053</td>\n",
              "      <td>0.757950</td>\n",
              "    </tr>\n",
              "    <tr>\n",
              "      <th>std</th>\n",
              "      <td>31188.549172</td>\n",
              "      <td>263296.675165</td>\n",
              "      <td>74.521646</td>\n",
              "      <td>0.451685</td>\n",
              "      <td>238.790864</td>\n",
              "      <td>239.233022</td>\n",
              "      <td>12743.272225</td>\n",
              "      <td>0.646502</td>\n",
              "    </tr>\n",
              "    <tr>\n",
              "      <th>min</th>\n",
              "      <td>0.000000</td>\n",
              "      <td>0.000000</td>\n",
              "      <td>0.000000</td>\n",
              "      <td>0.000000</td>\n",
              "      <td>0.000000</td>\n",
              "      <td>0.000000</td>\n",
              "      <td>0.000000</td>\n",
              "      <td>0.000000</td>\n",
              "    </tr>\n",
              "    <tr>\n",
              "      <th>25%</th>\n",
              "      <td>27587.000000</td>\n",
              "      <td>235210.000000</td>\n",
              "      <td>2.000000</td>\n",
              "      <td>1.000000</td>\n",
              "      <td>0.000000</td>\n",
              "      <td>0.000000</td>\n",
              "      <td>1.000000</td>\n",
              "      <td>0.000000</td>\n",
              "    </tr>\n",
              "    <tr>\n",
              "      <th>50%</th>\n",
              "      <td>55410.000000</td>\n",
              "      <td>445310.000000</td>\n",
              "      <td>4.000000</td>\n",
              "      <td>1.000000</td>\n",
              "      <td>0.000000</td>\n",
              "      <td>1.000000</td>\n",
              "      <td>1.000000</td>\n",
              "      <td>1.000000</td>\n",
              "    </tr>\n",
              "    <tr>\n",
              "      <th>75%</th>\n",
              "      <td>83705.000000</td>\n",
              "      <td>561730.000000</td>\n",
              "      <td>10.000000</td>\n",
              "      <td>2.000000</td>\n",
              "      <td>1.000000</td>\n",
              "      <td>4.000000</td>\n",
              "      <td>1.000000</td>\n",
              "      <td>1.000000</td>\n",
              "    </tr>\n",
              "    <tr>\n",
              "      <th>max</th>\n",
              "      <td>99999.000000</td>\n",
              "      <td>928120.000000</td>\n",
              "      <td>9999.000000</td>\n",
              "      <td>2.000000</td>\n",
              "      <td>8800.000000</td>\n",
              "      <td>9500.000000</td>\n",
              "      <td>99999.000000</td>\n",
              "      <td>2.000000</td>\n",
              "    </tr>\n",
              "  </tbody>\n",
              "</table>\n",
              "</div>\n",
              "      <button class=\"colab-df-convert\" onclick=\"convertToInteractive('df-bea7f86f-13df-4d67-adda-c9302a2d890b')\"\n",
              "              title=\"Convert this dataframe to an interactive table.\"\n",
              "              style=\"display:none;\">\n",
              "        \n",
              "  <svg xmlns=\"http://www.w3.org/2000/svg\" height=\"24px\"viewBox=\"0 0 24 24\"\n",
              "       width=\"24px\">\n",
              "    <path d=\"M0 0h24v24H0V0z\" fill=\"none\"/>\n",
              "    <path d=\"M18.56 5.44l.94 2.06.94-2.06 2.06-.94-2.06-.94-.94-2.06-.94 2.06-2.06.94zm-11 1L8.5 8.5l.94-2.06 2.06-.94-2.06-.94L8.5 2.5l-.94 2.06-2.06.94zm10 10l.94 2.06.94-2.06 2.06-.94-2.06-.94-.94-2.06-.94 2.06-2.06.94z\"/><path d=\"M17.41 7.96l-1.37-1.37c-.4-.4-.92-.59-1.43-.59-.52 0-1.04.2-1.43.59L10.3 9.45l-7.72 7.72c-.78.78-.78 2.05 0 2.83L4 21.41c.39.39.9.59 1.41.59.51 0 1.02-.2 1.41-.59l7.78-7.78 2.81-2.81c.8-.78.8-2.07 0-2.86zM5.41 20L4 18.59l7.72-7.72 1.47 1.35L5.41 20z\"/>\n",
              "  </svg>\n",
              "      </button>\n",
              "      \n",
              "  <style>\n",
              "    .colab-df-container {\n",
              "      display:flex;\n",
              "      flex-wrap:wrap;\n",
              "      gap: 12px;\n",
              "    }\n",
              "\n",
              "    .colab-df-convert {\n",
              "      background-color: #E8F0FE;\n",
              "      border: none;\n",
              "      border-radius: 50%;\n",
              "      cursor: pointer;\n",
              "      display: none;\n",
              "      fill: #1967D2;\n",
              "      height: 32px;\n",
              "      padding: 0 0 0 0;\n",
              "      width: 32px;\n",
              "    }\n",
              "\n",
              "    .colab-df-convert:hover {\n",
              "      background-color: #E2EBFA;\n",
              "      box-shadow: 0px 1px 2px rgba(60, 64, 67, 0.3), 0px 1px 3px 1px rgba(60, 64, 67, 0.15);\n",
              "      fill: #174EA6;\n",
              "    }\n",
              "\n",
              "    [theme=dark] .colab-df-convert {\n",
              "      background-color: #3B4455;\n",
              "      fill: #D2E3FC;\n",
              "    }\n",
              "\n",
              "    [theme=dark] .colab-df-convert:hover {\n",
              "      background-color: #434B5C;\n",
              "      box-shadow: 0px 1px 3px 1px rgba(0, 0, 0, 0.15);\n",
              "      filter: drop-shadow(0px 1px 2px rgba(0, 0, 0, 0.3));\n",
              "      fill: #FFFFFF;\n",
              "    }\n",
              "  </style>\n",
              "\n",
              "      <script>\n",
              "        const buttonEl =\n",
              "          document.querySelector('#df-bea7f86f-13df-4d67-adda-c9302a2d890b button.colab-df-convert');\n",
              "        buttonEl.style.display =\n",
              "          google.colab.kernel.accessAllowed ? 'block' : 'none';\n",
              "\n",
              "        async function convertToInteractive(key) {\n",
              "          const element = document.querySelector('#df-bea7f86f-13df-4d67-adda-c9302a2d890b');\n",
              "          const dataTable =\n",
              "            await google.colab.kernel.invokeFunction('convertToInteractive',\n",
              "                                                     [key], {});\n",
              "          if (!dataTable) return;\n",
              "\n",
              "          const docLinkHtml = 'Like what you see? Visit the ' +\n",
              "            '<a target=\"_blank\" href=https://colab.research.google.com/notebooks/data_table.ipynb>data table notebook</a>'\n",
              "            + ' to learn more about interactive tables.';\n",
              "          element.innerHTML = '';\n",
              "          dataTable['output_type'] = 'display_data';\n",
              "          await google.colab.output.renderOutput(dataTable, element);\n",
              "          const docLink = document.createElement('div');\n",
              "          docLink.innerHTML = docLinkHtml;\n",
              "          element.appendChild(docLink);\n",
              "        }\n",
              "      </script>\n",
              "    </div>\n",
              "  </div>\n",
              "  "
            ]
          },
          "metadata": {},
          "execution_count": 54
        }
      ],
      "source": [
        "# some basic stats about the data\n",
        "dataframe.describe()"
      ]
    },
    {
      "cell_type": "code",
      "execution_count": 55,
      "id": "d01adf72",
      "metadata": {
        "colab": {
          "base_uri": "https://localhost:8080/"
        },
        "id": "d01adf72",
        "outputId": "2f69f57c-4903-4803-c2b7-33e1d9e9f540"
      },
      "outputs": [
        {
          "output_type": "stream",
          "name": "stdout",
          "text": [
            "<class 'pandas.core.frame.DataFrame'>\n",
            "Int64Index: 808435 entries, 0 to 809246\n",
            "Data columns (total 19 columns):\n",
            " #   Column             Non-Null Count   Dtype  \n",
            "---  ------             --------------   -----  \n",
            " 0   City               808410 non-null  object \n",
            " 1   State              808423 non-null  object \n",
            " 2   Zip                808435 non-null  int64  \n",
            " 3   Bank               807045 non-null  object \n",
            " 4   BankState          807040 non-null  object \n",
            " 5   NAICS              808435 non-null  int64  \n",
            " 6   NoEmp              808435 non-null  int64  \n",
            " 7   NewExist           808314 non-null  float64\n",
            " 8   CreateJob          808435 non-null  int64  \n",
            " 9   RetainedJob        808435 non-null  int64  \n",
            " 10  FranchiseCode      808435 non-null  int64  \n",
            " 11  UrbanRural         808435 non-null  int64  \n",
            " 12  RevLineCr          804353 non-null  object \n",
            " 13  LowDoc             806118 non-null  object \n",
            " 14  DisbursementGross  808435 non-null  object \n",
            " 15  BalanceGross       808435 non-null  object \n",
            " 16  GrAppv             808435 non-null  object \n",
            " 17  SBA_Appv           808435 non-null  object \n",
            " 18  MIS_Status         806677 non-null  object \n",
            "dtypes: float64(1), int64(7), object(11)\n",
            "memory usage: 123.4+ MB\n"
          ]
        }
      ],
      "source": [
        "# check data types\n",
        "dataframe.info()"
      ]
    },
    {
      "cell_type": "code",
      "execution_count": 56,
      "id": "9764b5ef",
      "metadata": {
        "colab": {
          "base_uri": "https://localhost:8080/"
        },
        "id": "9764b5ef",
        "outputId": "ed6dbe08-eff1-49d3-8abc-cb265f928a05"
      },
      "outputs": [
        {
          "output_type": "execute_result",
          "data": {
            "text/plain": [
              "City                   25\n",
              "State                  12\n",
              "Zip                     0\n",
              "Bank                 1390\n",
              "BankState            1395\n",
              "NAICS                   0\n",
              "NoEmp                   0\n",
              "NewExist              121\n",
              "CreateJob               0\n",
              "RetainedJob             0\n",
              "FranchiseCode           0\n",
              "UrbanRural              0\n",
              "RevLineCr            4082\n",
              "LowDoc               2317\n",
              "DisbursementGross       0\n",
              "BalanceGross            0\n",
              "GrAppv                  0\n",
              "SBA_Appv                0\n",
              "MIS_Status           1758\n",
              "dtype: int64"
            ]
          },
          "metadata": {},
          "execution_count": 56
        }
      ],
      "source": [
        "# check for the missing values\n",
        "dataframe.isna().sum()"
      ]
    },
    {
      "cell_type": "markdown",
      "id": "73872004",
      "metadata": {
        "id": "73872004"
      },
      "source": [
        "### Observations:\n",
        "-  We can see that are missing values in multiple features we have to handle them"
      ]
    },
    {
      "cell_type": "code",
      "execution_count": 57,
      "id": "938aa5eb",
      "metadata": {
        "id": "938aa5eb"
      },
      "outputs": [],
      "source": [
        "dataframe = dataframe.dropna()"
      ]
    },
    {
      "cell_type": "code",
      "execution_count": 58,
      "id": "4a465433",
      "metadata": {
        "id": "4a465433"
      },
      "outputs": [],
      "source": [
        "curr_col = ['DisbursementGross', 'BalanceGross', 'GrAppv', 'SBA_Appv']\n",
        "dataframe[curr_col] = dataframe[curr_col].replace('[\\$,]', '', regex=True).astype(float) "
      ]
    },
    {
      "cell_type": "code",
      "execution_count": 59,
      "id": "34d9128d",
      "metadata": {
        "colab": {
          "base_uri": "https://localhost:8080/",
          "height": 319
        },
        "id": "34d9128d",
        "outputId": "741be44b-a266-4471-fcf2-23199d2b33fc"
      },
      "outputs": [
        {
          "output_type": "stream",
          "name": "stdout",
          "text": [
            "0    658297\n",
            "1    140502\n",
            "Name: MIS_Status, dtype: int64\n"
          ]
        },
        {
          "output_type": "execute_result",
          "data": {
            "text/plain": [
              "<matplotlib.axes._subplots.AxesSubplot at 0x7fa9e3de7050>"
            ]
          },
          "metadata": {},
          "execution_count": 59
        },
        {
          "output_type": "display_data",
          "data": {
            "text/plain": [
              "<Figure size 432x288 with 1 Axes>"
            ],
            "image/png": "[encoded data removed]"
          },
          "metadata": {}
        }
      ],
      "source": [
        "dataframe['MIS_Status'] = dataframe['MIS_Status'].replace({'P I F': 0, 'CHGOFF':1})\n",
        "print(dataframe.MIS_Status.value_counts())\n",
        "dataframe.MIS_Status.value_counts().plot.pie()"
      ]
    },
    {
      "cell_type": "code",
      "execution_count": 62,
      "id": "8e3e55d9",
      "metadata": {
        "colab": {
          "base_uri": "https://localhost:8080/",
          "height": 319
        },
        "id": "8e3e55d9",
        "outputId": "0e83ab81-b813-46a6-b661-988de67cdfa1"
      },
      "outputs": [
        {
          "output_type": "stream",
          "name": "stdout",
          "text": [
            "0    698834\n",
            "1     97117\n",
            "Name: LowDoc, dtype: int64\n"
          ]
        },
        {
          "output_type": "execute_result",
          "data": {
            "text/plain": [
              "<matplotlib.axes._subplots.AxesSubplot at 0x7fa9dd9c29d0>"
            ]
          },
          "metadata": {},
          "execution_count": 62
        },
        {
          "output_type": "display_data",
          "data": {
            "text/plain": [
              "<Figure size 432x288 with 1 Axes>"
            ],
            "image/png": "[encoded data removed]"
          },
          "metadata": {}
        }
      ],
      "source": [
        "dataframe['LowDoc'] = dataframe['LowDoc'].replace({'[C, S, A, R, 1, 0]':np.nan})\n",
        "dataframe['LowDoc'] = dataframe['LowDoc'].replace({'N': 0, 'Y':1})\n",
        "dataframe['LowDoc'] = np.where((dataframe['LowDoc'] != 0) & (dataframe['LowDoc'] != 1), np.nan, dataframe.LowDoc)\n",
        "print(dataframe.LowDoc.value_counts())\n",
        "dataframe.LowDoc.value_counts().plot.pie()"
      ]
    },
    {
      "cell_type": "code",
      "execution_count": 63,
      "id": "24c769a4",
      "metadata": {
        "colab": {
          "base_uri": "https://localhost:8080/",
          "height": 319
        },
        "id": "24c769a4",
        "outputId": "bf31ba74-4999-4c42-a3fa-a7eb04a7b982"
      },
      "outputs": [
        {
          "output_type": "stream",
          "name": "stdout",
          "text": [
            "0    605105\n",
            "1    180024\n",
            "Name: RevLineCr, dtype: int64\n"
          ]
        },
        {
          "output_type": "execute_result",
          "data": {
            "text/plain": [
              "<matplotlib.axes._subplots.AxesSubplot at 0x7fa9dde1ba90>"
            ]
          },
          "metadata": {},
          "execution_count": 63
        },
        {
          "output_type": "display_data",
          "data": {
            "text/plain": [
              "<Figure size 432x288 with 1 Axes>"
            ],
            "image/png": "[encoded data removed]"
          },
          "metadata": {}
        }
      ],
      "source": [
        "dataframe['RevLineCr'] = dataframe['RevLineCr'].replace({'N': 0, 'Y':1, })\n",
        "dataframe['RevLineCr'] = dataframe['RevLineCr'].replace({'0': 0, '1':1, })\n",
        "dataframe['RevLineCr'] = np.where((dataframe['RevLineCr'] != 0) & (dataframe['RevLineCr'] != 1), np.nan, dataframe.RevLineCr)\n",
        "print(dataframe.RevLineCr.value_counts())\n",
        "dataframe.LowDoc.value_counts().plot.pie()"
      ]
    },
    {
      "cell_type": "code",
      "execution_count": 64,
      "id": "11403bce",
      "metadata": {
        "colab": {
          "base_uri": "https://localhost:8080/",
          "height": 319
        },
        "id": "11403bce",
        "outputId": "5568d516-ad64-44c4-e434-58dfe3ebf141"
      },
      "outputs": [
        {
          "output_type": "stream",
          "name": "stdout",
          "text": [
            "0    574375\n",
            "1    224424\n",
            "Name: NewExist, dtype: int64\n"
          ]
        },
        {
          "output_type": "execute_result",
          "data": {
            "text/plain": [
              "<matplotlib.axes._subplots.AxesSubplot at 0x7fa9dddf0090>"
            ]
          },
          "metadata": {},
          "execution_count": 64
        },
        {
          "output_type": "display_data",
          "data": {
            "text/plain": [
              "<Figure size 432x288 with 1 Axes>"
            ],
            "image/png": "[encoded data removed]"
          },
          "metadata": {}
        }
      ],
      "source": [
        "dataframe['NewExist'] = dataframe['NewExist'].replace({1.0: 0, 2.0:1, 0:np.nan}).fillna(0).astype(int)\n",
        "print(dataframe.NewExist.value_counts())\n",
        "dataframe.NewExist.value_counts().plot.pie()"
      ]
    },
    {
      "cell_type": "code",
      "execution_count": 65,
      "id": "9119ced2",
      "metadata": {
        "colab": {
          "base_uri": "https://localhost:8080/",
          "height": 337
        },
        "id": "9119ced2",
        "outputId": "c161916f-f4ea-4160-b59c-60982f8e2678"
      },
      "outputs": [
        {
          "output_type": "stream",
          "name": "stdout",
          "text": [
            "1    419694\n",
            "0    285243\n",
            "2     93862\n",
            "Name: UrbanRural, dtype: int64\n"
          ]
        },
        {
          "output_type": "execute_result",
          "data": {
            "text/plain": [
              "<matplotlib.axes._subplots.AxesSubplot at 0x7fa9dddb3a10>"
            ]
          },
          "metadata": {},
          "execution_count": 65
        },
        {
          "output_type": "display_data",
          "data": {
            "text/plain": [
              "<Figure size 432x288 with 1 Axes>"
            ],
            "image/png": "[encoded data removed]"
          },
          "metadata": {}
        }
      ],
      "source": [
        "print(dataframe.UrbanRural.value_counts())\n",
        "dataframe.UrbanRural.value_counts().plot.pie()"
      ]
    },
    {
      "cell_type": "code",
      "execution_count": 66,
      "id": "4cfd1c89",
      "metadata": {
        "colab": {
          "base_uri": "https://localhost:8080/",
          "height": 266
        },
        "id": "4cfd1c89",
        "outputId": "a0b83785-dce1-42f9-f086-897108c8a2b9"
      },
      "outputs": [
        {
          "output_type": "stream",
          "name": "stdout",
          "text": [
            "AxesSubplot(0.260833,0.125;0.503333x0.755)\n"
          ]
        },
        {
          "output_type": "display_data",
          "data": {
            "text/plain": [
              "<Figure size 432x288 with 1 Axes>"
            ],
            "image/png": "[encoded data removed]"
          },
          "metadata": {}
        }
      ],
      "source": [
        "dataframe['FranchiseCode'] = dataframe['FranchiseCode'].replace(1,0 )\t\n",
        "dataframe['FranchiseCode'] = np.where((dataframe.FranchiseCode != 0 ),1,dataframe.FranchiseCode)\n",
        "\n",
        "dataframe.rename(columns={\"FranchiseCode\": \"Is_Franchised\"}, inplace=True)\n",
        "print(dataframe.Is_Franchised.value_counts().plot.pie())"
      ]
    },
    {
      "cell_type": "code",
      "execution_count": 67,
      "id": "e7f6c3b4",
      "metadata": {
        "colab": {
          "base_uri": "https://localhost:8080/",
          "height": 319
        },
        "id": "e7f6c3b4",
        "outputId": "24f6079f-1203-4e28-c463-80b49c20da03"
      },
      "outputs": [
        {
          "output_type": "stream",
          "name": "stdout",
          "text": [
            "0    558300\n",
            "1    240499\n",
            "Name: Is_CreatedJob, dtype: int64\n"
          ]
        },
        {
          "output_type": "execute_result",
          "data": {
            "text/plain": [
              "<matplotlib.axes._subplots.AxesSubplot at 0x7fa9ddd4af10>"
            ]
          },
          "metadata": {},
          "execution_count": 67
        },
        {
          "output_type": "display_data",
          "data": {
            "text/plain": [
              "<Figure size 432x288 with 1 Axes>"
            ],
            "image/png": "[encoded data removed]"
          },
          "metadata": {}
        }
      ],
      "source": [
        "dataframe['CreateJob'] = np.where((dataframe.CreateJob > 0 ),1,dataframe.CreateJob)\n",
        "dataframe.rename(columns={\"CreateJob\": \"Is_CreatedJob\"}, inplace=True)\n",
        "print(dataframe.Is_CreatedJob.value_counts())\n",
        "dataframe.Is_CreatedJob.value_counts().plot.pie()"
      ]
    },
    {
      "cell_type": "code",
      "execution_count": 68,
      "id": "54e8a959",
      "metadata": {
        "colab": {
          "base_uri": "https://localhost:8080/",
          "height": 319
        },
        "id": "54e8a959",
        "outputId": "f3dff3fd-b487-4ff9-cddc-7fe0b9a52a92"
      },
      "outputs": [
        {
          "output_type": "stream",
          "name": "stdout",
          "text": [
            "1    408883\n",
            "0    389916\n",
            "Name: Is_RetainedJob, dtype: int64\n"
          ]
        },
        {
          "output_type": "execute_result",
          "data": {
            "text/plain": [
              "<matplotlib.axes._subplots.AxesSubplot at 0x7fa9ddca4110>"
            ]
          },
          "metadata": {},
          "execution_count": 68
        },
        {
          "output_type": "display_data",
          "data": {
            "text/plain": [
              "<Figure size 432x288 with 1 Axes>"
            ],
            "image/png": "[encoded data removed]"
          },
          "metadata": {}
        }
      ],
      "source": [
        "dataframe['RetainedJob'] = np.where((dataframe.RetainedJob > 0 ),1,dataframe.RetainedJob)\n",
        "dataframe.rename(columns={\"RetainedJob\": \"Is_RetainedJob\"}, inplace=True)\n",
        "print(dataframe.Is_RetainedJob.value_counts())\n",
        "dataframe.Is_RetainedJob.value_counts().plot.pie()"
      ]
    },
    {
      "cell_type": "code",
      "execution_count": 69,
      "id": "4e559969",
      "metadata": {
        "id": "4e559969"
      },
      "outputs": [],
      "source": [
        "ind_code = dataframe['NAICS']\n",
        "\n",
        "#Function to take the first 2 digits of the code\n",
        "def get_code(ind_code):\n",
        "    if ind_code <= 0:\n",
        "        return 0\n",
        "    return (ind_code // 10 ** (int(math.log(ind_code, 10)) - 1))\n",
        "\n",
        "#Convert 2 digits to sector name\n",
        "def sector_name(i):\n",
        "    def_code = {11:'Agriculture, Forestry, Fishing & Hunting', 21:'Mining, Quarying, Oil & Gas',\n",
        "                22:'Utilities', 23:'Constuction', 31:'Manufacturing', 32:'Manufacturing', 33:'Manufacturing',\n",
        "                42:'Wholesale Trade', 44:'Retail Trade', 45:'Retail Trade', 48:'Transportation & Warehousing',\n",
        "                49:'Transportation & Warehousing', 51:'Information', 52:'Finance & Insurance', \n",
        "                53:'Real Estate, Rental & Leasing', 54:'Professional, Scientific & Technical Service',\n",
        "                55:'Management of Companies & Enterprise', \n",
        "                56:'Administrative, Support, Waste Management & Remediation Service',\n",
        "                61:'Educational Service', 62:'Health Care & Social Assistance',\n",
        "                71:'Arts, Entertainment & Recreation', 72:'Accomodation & Food Service',\n",
        "                81:'Other Servieces (Ex: Public Administration)', 92:'Public Administration'\n",
        "               }\n",
        "    if i in def_code:\n",
        "        return def_code[i]\n",
        "    \n",
        "def def_rate(i):\n",
        "    sector_default = {21:0.08, 11:0.09, 55:0.10, \n",
        "                      62: 0.10, 22:0.14, \n",
        "                      92:0.15,54:0.19, \n",
        "                      42:0.19,31:0.19,\n",
        "                      32:0.16,33:0.14,\n",
        "                      81:0.20,71:0.21,\n",
        "                      72:0.22,44:0.22,\n",
        "                      45:0.23,23:0.23,\n",
        "                      56:0.24,61:0.24,\n",
        "                      51:0.25,48:0.27,\n",
        "                      49:0.23,52:0.28,53:0.29}\n",
        "    if i in sector_default:\n",
        "        return sector_default[i]\n",
        "    return np.nan"
      ]
    },
    {
      "cell_type": "code",
      "execution_count": 70,
      "id": "446bd077",
      "metadata": {
        "id": "446bd077"
      },
      "outputs": [],
      "source": [
        "#Create a new column i.e. ind_code\n",
        "dataframe['ind_code'] = dataframe.NAICS.apply(get_code)\n",
        "\n",
        "#Create a new column i.e. sector name\n",
        "dataframe['Sector_name'] = dataframe.ind_code.apply(sector_name)\n",
        "\n",
        "#Create a new column i.e.Sector_rate\n",
        "dataframe['Sector_rate'] = dataframe.NAICS.apply(get_code).apply(def_rate)"
      ]
    },
    {
      "cell_type": "code",
      "execution_count": 71,
      "id": "a67bb125",
      "metadata": {
        "colab": {
          "base_uri": "https://localhost:8080/",
          "height": 206
        },
        "id": "a67bb125",
        "outputId": "e3e38dfe-2649-4423-8ce2-93ec07576fd1"
      },
      "outputs": [
        {
          "output_type": "execute_result",
          "data": {
            "text/plain": [
              "    NAICS  ind_code  Sector_rate                    Sector_name\n",
              "0       0         0          NaN                           None\n",
              "1  531210        53         0.29  Real Estate, Rental & Leasing\n",
              "2  721110        72         0.22    Accomodation & Food Service\n",
              "3       0         0          NaN                           None\n",
              "4       0         0          NaN                           None"
            ],
            "text/html": [
              "\n",
              "  <div id=\"df-711afdec-5747-46a5-a4fd-f9063269504b\">\n",
              "    <div class=\"colab-df-container\">\n",
              "      <div>\n",
              "<style scoped>\n",
              "    .dataframe tbody tr th:only-of-type {\n",
              "        vertical-align: middle;\n",
              "    }\n",
              "\n",
              "    .dataframe tbody tr th {\n",
              "        vertical-align: top;\n",
              "    }\n",
              "\n",
              "    .dataframe thead th {\n",
              "        text-align: right;\n",
              "    }\n",
              "</style>\n",
              "<table border=\"1\" class=\"dataframe\">\n",
              "  <thead>\n",
              "    <tr style=\"text-align: right;\">\n",
              "      <th></th>\n",
              "      <th>NAICS</th>\n",
              "      <th>ind_code</th>\n",
              "      <th>Sector_rate</th>\n",
              "      <th>Sector_name</th>\n",
              "    </tr>\n",
              "  </thead>\n",
              "  <tbody>\n",
              "    <tr>\n",
              "      <th>0</th>\n",
              "      <td>0</td>\n",
              "      <td>0</td>\n",
              "      <td>NaN</td>\n",
              "      <td>None</td>\n",
              "    </tr>\n",
              "    <tr>\n",
              "      <th>1</th>\n",
              "      <td>531210</td>\n",
              "      <td>53</td>\n",
              "      <td>0.29</td>\n",
              "      <td>Real Estate, Rental &amp; Leasing</td>\n",
              "    </tr>\n",
              "    <tr>\n",
              "      <th>2</th>\n",
              "      <td>721110</td>\n",
              "      <td>72</td>\n",
              "      <td>0.22</td>\n",
              "      <td>Accomodation &amp; Food Service</td>\n",
              "    </tr>\n",
              "    <tr>\n",
              "      <th>3</th>\n",
              "      <td>0</td>\n",
              "      <td>0</td>\n",
              "      <td>NaN</td>\n",
              "      <td>None</td>\n",
              "    </tr>\n",
              "    <tr>\n",
              "      <th>4</th>\n",
              "      <td>0</td>\n",
              "      <td>0</td>\n",
              "      <td>NaN</td>\n",
              "      <td>None</td>\n",
              "    </tr>\n",
              "  </tbody>\n",
              "</table>\n",
              "</div>\n",
              "      <button class=\"colab-df-convert\" onclick=\"convertToInteractive('df-711afdec-5747-46a5-a4fd-f9063269504b')\"\n",
              "              title=\"Convert this dataframe to an interactive table.\"\n",
              "              style=\"display:none;\">\n",
              "        \n",
              "  <svg xmlns=\"http://www.w3.org/2000/svg\" height=\"24px\"viewBox=\"0 0 24 24\"\n",
              "       width=\"24px\">\n",
              "    <path d=\"M0 0h24v24H0V0z\" fill=\"none\"/>\n",
              "    <path d=\"M18.56 5.44l.94 2.06.94-2.06 2.06-.94-2.06-.94-.94-2.06-.94 2.06-2.06.94zm-11 1L8.5 8.5l.94-2.06 2.06-.94-2.06-.94L8.5 2.5l-.94 2.06-2.06.94zm10 10l.94 2.06.94-2.06 2.06-.94-2.06-.94-.94-2.06-.94 2.06-2.06.94z\"/><path d=\"M17.41 7.96l-1.37-1.37c-.4-.4-.92-.59-1.43-.59-.52 0-1.04.2-1.43.59L10.3 9.45l-7.72 7.72c-.78.78-.78 2.05 0 2.83L4 21.41c.39.39.9.59 1.41.59.51 0 1.02-.2 1.41-.59l7.78-7.78 2.81-2.81c.8-.78.8-2.07 0-2.86zM5.41 20L4 18.59l7.72-7.72 1.47 1.35L5.41 20z\"/>\n",
              "  </svg>\n",
              "      </button>\n",
              "      \n",
              "  <style>\n",
              "    .colab-df-container {\n",
              "      display:flex;\n",
              "      flex-wrap:wrap;\n",
              "      gap: 12px;\n",
              "    }\n",
              "\n",
              "    .colab-df-convert {\n",
              "      background-color: #E8F0FE;\n",
              "      border: none;\n",
              "      border-radius: 50%;\n",
              "      cursor: pointer;\n",
              "      display: none;\n",
              "      fill: #1967D2;\n",
              "      height: 32px;\n",
              "      padding: 0 0 0 0;\n",
              "      width: 32px;\n",
              "    }\n",
              "\n",
              "    .colab-df-convert:hover {\n",
              "      background-color: #E2EBFA;\n",
              "      box-shadow: 0px 1px 2px rgba(60, 64, 67, 0.3), 0px 1px 3px 1px rgba(60, 64, 67, 0.15);\n",
              "      fill: #174EA6;\n",
              "    }\n",
              "\n",
              "    [theme=dark] .colab-df-convert {\n",
              "      background-color: #3B4455;\n",
              "      fill: #D2E3FC;\n",
              "    }\n",
              "\n",
              "    [theme=dark] .colab-df-convert:hover {\n",
              "      background-color: #434B5C;\n",
              "      box-shadow: 0px 1px 3px 1px rgba(0, 0, 0, 0.15);\n",
              "      filter: drop-shadow(0px 1px 2px rgba(0, 0, 0, 0.3));\n",
              "      fill: #FFFFFF;\n",
              "    }\n",
              "  </style>\n",
              "\n",
              "      <script>\n",
              "        const buttonEl =\n",
              "          document.querySelector('#df-711afdec-5747-46a5-a4fd-f9063269504b button.colab-df-convert');\n",
              "        buttonEl.style.display =\n",
              "          google.colab.kernel.accessAllowed ? 'block' : 'none';\n",
              "\n",
              "        async function convertToInteractive(key) {\n",
              "          const element = document.querySelector('#df-711afdec-5747-46a5-a4fd-f9063269504b');\n",
              "          const dataTable =\n",
              "            await google.colab.kernel.invokeFunction('convertToInteractive',\n",
              "                                                     [key], {});\n",
              "          if (!dataTable) return;\n",
              "\n",
              "          const docLinkHtml = 'Like what you see? Visit the ' +\n",
              "            '<a target=\"_blank\" href=https://colab.research.google.com/notebooks/data_table.ipynb>data table notebook</a>'\n",
              "            + ' to learn more about interactive tables.';\n",
              "          element.innerHTML = '';\n",
              "          dataTable['output_type'] = 'display_data';\n",
              "          await google.colab.output.renderOutput(dataTable, element);\n",
              "          const docLink = document.createElement('div');\n",
              "          docLink.innerHTML = docLinkHtml;\n",
              "          element.appendChild(docLink);\n",
              "        }\n",
              "      </script>\n",
              "    </div>\n",
              "  </div>\n",
              "  "
            ]
          },
          "metadata": {},
          "execution_count": 71
        }
      ],
      "source": [
        "dataframe[['NAICS','ind_code', 'Sector_rate', 'Sector_name']].head()"
      ]
    },
    {
      "cell_type": "code",
      "execution_count": 72,
      "id": "d206d4bc",
      "metadata": {
        "id": "d206d4bc"
      },
      "outputs": [],
      "source": [
        "def_state = dataframe.groupby(['State', 'MIS_Status'])['State'].count().unstack('MIS_Status')\n",
        "def_state['Def_Percent'] = def_state[1]/(def_state[1] + def_state[0])\n",
        "def_state = def_state.drop(axis=1, columns=[0.0, 1.0]).round(1).to_dict()\n",
        "\n",
        "#make the function change the area according to the default rate\n",
        "def state_def_rate(i):\n",
        "    def_state = {'AK': 0.1,'AL': 0.2, 'AR': 0.2, 'AZ': 0.2,'CA': 0.2, 'CO': 0.2, 'CT': 0.1, 'DC': 0.2,\n",
        "                 'DE': 0.2, 'FL': 0.3, 'GA': 0.2, 'HI': 0.2, 'IA': 0.1, 'ID': 0.1, 'IL': 0.2, 'IN': 0.2, \n",
        "                 'KS': 0.1, 'KY': 0.2, 'LA': 0.2, 'MA': 0.1, 'MD': 0.2, 'ME': 0.1, 'MI': 0.2, 'MN': 0.1,\n",
        "                 'MO': 0.2, 'MS': 0.2, 'MT': 0.1, 'NC': 0.2, 'ND': 0.1, 'NE': 0.1, 'NH': 0.1, 'NJ': 0.2,\n",
        "                 'NM': 0.1, 'NV': 0.2, 'NY': 0.2, 'OH': 0.2, 'OK': 0.2, 'OR': 0.2, 'PA': 0.1, 'RI': 0.1,\n",
        "                 'SC': 0.2, 'SD': 0.1, 'TN': 0.2, 'TX': 0.2, 'UT': 0.2, 'VA': 0.2, 'VT': 0.1, 'WA': 0.1,\n",
        "                 'WI': 0.1, 'WV': 0.2, 'WY': 0.1}\n",
        "\n",
        "    if i in def_state:\n",
        "        return def_state[i]\n",
        "    \n",
        "#create a State_rate . column    \n",
        "dataframe['State_rate'] = dataframe.State.apply(state_def_rate)"
      ]
    },
    {
      "cell_type": "code",
      "execution_count": 73,
      "id": "c7ecae8a",
      "metadata": {
        "colab": {
          "base_uri": "https://localhost:8080/",
          "height": 363
        },
        "id": "c7ecae8a",
        "outputId": "7169a897-ba7c-4c3b-bf27-2d4d8bbbcbea"
      },
      "outputs": [
        {
          "output_type": "execute_result",
          "data": {
            "text/plain": [
              "  State  State_rate\n",
              "0    WV         0.2\n",
              "1    CA         0.2\n",
              "2    AZ         0.2\n",
              "3    CA         0.2\n",
              "4    MS         0.2\n",
              "5    ND         0.1\n",
              "6    OR         0.2\n",
              "7    NJ         0.2\n",
              "8    CA         0.2\n",
              "9    CA         0.2"
            ],
            "text/html": [
              "\n",
              "  <div id=\"df-e35f0650-6a0a-45c6-88e3-720f197da1af\">\n",
              "    <div class=\"colab-df-container\">\n",
              "      <div>\n",
              "<style scoped>\n",
              "    .dataframe tbody tr th:only-of-type {\n",
              "        vertical-align: middle;\n",
              "    }\n",
              "\n",
              "    .dataframe tbody tr th {\n",
              "        vertical-align: top;\n",
              "    }\n",
              "\n",
              "    .dataframe thead th {\n",
              "        text-align: right;\n",
              "    }\n",
              "</style>\n",
              "<table border=\"1\" class=\"dataframe\">\n",
              "  <thead>\n",
              "    <tr style=\"text-align: right;\">\n",
              "      <th></th>\n",
              "      <th>State</th>\n",
              "      <th>State_rate</th>\n",
              "    </tr>\n",
              "  </thead>\n",
              "  <tbody>\n",
              "    <tr>\n",
              "      <th>0</th>\n",
              "      <td>WV</td>\n",
              "      <td>0.2</td>\n",
              "    </tr>\n",
              "    <tr>\n",
              "      <th>1</th>\n",
              "      <td>CA</td>\n",
              "      <td>0.2</td>\n",
              "    </tr>\n",
              "    <tr>\n",
              "      <th>2</th>\n",
              "      <td>AZ</td>\n",
              "      <td>0.2</td>\n",
              "    </tr>\n",
              "    <tr>\n",
              "      <th>3</th>\n",
              "      <td>CA</td>\n",
              "      <td>0.2</td>\n",
              "    </tr>\n",
              "    <tr>\n",
              "      <th>4</th>\n",
              "      <td>MS</td>\n",
              "      <td>0.2</td>\n",
              "    </tr>\n",
              "    <tr>\n",
              "      <th>5</th>\n",
              "      <td>ND</td>\n",
              "      <td>0.1</td>\n",
              "    </tr>\n",
              "    <tr>\n",
              "      <th>6</th>\n",
              "      <td>OR</td>\n",
              "      <td>0.2</td>\n",
              "    </tr>\n",
              "    <tr>\n",
              "      <th>7</th>\n",
              "      <td>NJ</td>\n",
              "      <td>0.2</td>\n",
              "    </tr>\n",
              "    <tr>\n",
              "      <th>8</th>\n",
              "      <td>CA</td>\n",
              "      <td>0.2</td>\n",
              "    </tr>\n",
              "    <tr>\n",
              "      <th>9</th>\n",
              "      <td>CA</td>\n",
              "      <td>0.2</td>\n",
              "    </tr>\n",
              "  </tbody>\n",
              "</table>\n",
              "</div>\n",
              "      <button class=\"colab-df-convert\" onclick=\"convertToInteractive('df-e35f0650-6a0a-45c6-88e3-720f197da1af')\"\n",
              "              title=\"Convert this dataframe to an interactive table.\"\n",
              "              style=\"display:none;\">\n",
              "        \n",
              "  <svg xmlns=\"http://www.w3.org/2000/svg\" height=\"24px\"viewBox=\"0 0 24 24\"\n",
              "       width=\"24px\">\n",
              "    <path d=\"M0 0h24v24H0V0z\" fill=\"none\"/>\n",
              "    <path d=\"M18.56 5.44l.94 2.06.94-2.06 2.06-.94-2.06-.94-.94-2.06-.94 2.06-2.06.94zm-11 1L8.5 8.5l.94-2.06 2.06-.94-2.06-.94L8.5 2.5l-.94 2.06-2.06.94zm10 10l.94 2.06.94-2.06 2.06-.94-2.06-.94-.94-2.06-.94 2.06-2.06.94z\"/><path d=\"M17.41 7.96l-1.37-1.37c-.4-.4-.92-.59-1.43-.59-.52 0-1.04.2-1.43.59L10.3 9.45l-7.72 7.72c-.78.78-.78 2.05 0 2.83L4 21.41c.39.39.9.59 1.41.59.51 0 1.02-.2 1.41-.59l7.78-7.78 2.81-2.81c.8-.78.8-2.07 0-2.86zM5.41 20L4 18.59l7.72-7.72 1.47 1.35L5.41 20z\"/>\n",
              "  </svg>\n",
              "      </button>\n",
              "      \n",
              "  <style>\n",
              "    .colab-df-container {\n",
              "      display:flex;\n",
              "      flex-wrap:wrap;\n",
              "      gap: 12px;\n",
              "    }\n",
              "\n",
              "    .colab-df-convert {\n",
              "      background-color: #E8F0FE;\n",
              "      border: none;\n",
              "      border-radius: 50%;\n",
              "      cursor: pointer;\n",
              "      display: none;\n",
              "      fill: #1967D2;\n",
              "      height: 32px;\n",
              "      padding: 0 0 0 0;\n",
              "      width: 32px;\n",
              "    }\n",
              "\n",
              "    .colab-df-convert:hover {\n",
              "      background-color: #E2EBFA;\n",
              "      box-shadow: 0px 1px 2px rgba(60, 64, 67, 0.3), 0px 1px 3px 1px rgba(60, 64, 67, 0.15);\n",
              "      fill: #174EA6;\n",
              "    }\n",
              "\n",
              "    [theme=dark] .colab-df-convert {\n",
              "      background-color: #3B4455;\n",
              "      fill: #D2E3FC;\n",
              "    }\n",
              "\n",
              "    [theme=dark] .colab-df-convert:hover {\n",
              "      background-color: #434B5C;\n",
              "      box-shadow: 0px 1px 3px 1px rgba(0, 0, 0, 0.15);\n",
              "      filter: drop-shadow(0px 1px 2px rgba(0, 0, 0, 0.3));\n",
              "      fill: #FFFFFF;\n",
              "    }\n",
              "  </style>\n",
              "\n",
              "      <script>\n",
              "        const buttonEl =\n",
              "          document.querySelector('#df-e35f0650-6a0a-45c6-88e3-720f197da1af button.colab-df-convert');\n",
              "        buttonEl.style.display =\n",
              "          google.colab.kernel.accessAllowed ? 'block' : 'none';\n",
              "\n",
              "        async function convertToInteractive(key) {\n",
              "          const element = document.querySelector('#df-e35f0650-6a0a-45c6-88e3-720f197da1af');\n",
              "          const dataTable =\n",
              "            await google.colab.kernel.invokeFunction('convertToInteractive',\n",
              "                                                     [key], {});\n",
              "          if (!dataTable) return;\n",
              "\n",
              "          const docLinkHtml = 'Like what you see? Visit the ' +\n",
              "            '<a target=\"_blank\" href=https://colab.research.google.com/notebooks/data_table.ipynb>data table notebook</a>'\n",
              "            + ' to learn more about interactive tables.';\n",
              "          element.innerHTML = '';\n",
              "          dataTable['output_type'] = 'display_data';\n",
              "          await google.colab.output.renderOutput(dataTable, element);\n",
              "          const docLink = document.createElement('div');\n",
              "          docLink.innerHTML = docLinkHtml;\n",
              "          element.appendChild(docLink);\n",
              "        }\n",
              "      </script>\n",
              "    </div>\n",
              "  </div>\n",
              "  "
            ]
          },
          "metadata": {},
          "execution_count": 73
        }
      ],
      "source": [
        "dataframe[['State', 'State_rate']].head(10)"
      ]
    },
    {
      "cell_type": "code",
      "execution_count": 74,
      "id": "0aba398b",
      "metadata": {
        "id": "0aba398b"
      },
      "outputs": [],
      "source": [
        "dataframe['Portion_SBA_Bank'] = dataframe['SBA_Appv'] / dataframe['GrAppv']"
      ]
    },
    {
      "cell_type": "code",
      "execution_count": 75,
      "id": "9f99c063",
      "metadata": {
        "colab": {
          "base_uri": "https://localhost:8080/"
        },
        "id": "9f99c063",
        "outputId": "e9ec426b-a850-4c91-efb0-6c309a473662"
      },
      "outputs": [
        {
          "output_type": "execute_result",
          "data": {
            "text/plain": [
              "0    698834\n",
              "1     97117\n",
              "Name: LowDoc, dtype: int64"
            ]
          },
          "metadata": {},
          "execution_count": 75
        }
      ],
      "source": [
        "dataframe['LowDoc'] = np.where((dataframe['LowDoc'] == np.nan) & (dataframe['DisbursementGross'] < 150000),1,dataframe.LowDoc)\n",
        "dataframe['LowDoc'] = np.where((dataframe['LowDoc'] == np.nan) & (dataframe['DisbursementGross'] >= 150000),0,dataframe.LowDoc)\n",
        "\n",
        "dataframe = dataframe[(dataframe['LowDoc'] == 0) | (dataframe['LowDoc'] == 1)]\n",
        "\n",
        "dataframe.LowDoc.value_counts()"
      ]
    },
    {
      "cell_type": "code",
      "execution_count": 76,
      "id": "94ee5371",
      "metadata": {
        "id": "94ee5371"
      },
      "outputs": [],
      "source": [
        "dataframe = dataframe.drop(axis=1, columns=['Bank','NAICS', 'BankState','ind_code'])"
      ]
    },
    {
      "cell_type": "code",
      "execution_count": 77,
      "id": "d574447f",
      "metadata": {
        "id": "d574447f"
      },
      "outputs": [],
      "source": [
        "dataframe.dropna(subset=['City', 'State','LowDoc', 'MIS_Status', \n",
        "                    'Sector_rate', 'Sector_name', 'RevLineCr'], inplace=True)"
      ]
    },
    {
      "cell_type": "code",
      "execution_count": 78,
      "id": "f082a0e7",
      "metadata": {
        "colab": {
          "base_uri": "https://localhost:8080/"
        },
        "id": "f082a0e7",
        "outputId": "4daedb07-3773-4d8d-f414-7dd048bf1922"
      },
      "outputs": [
        {
          "output_type": "execute_result",
          "data": {
            "text/plain": [
              "City                 0\n",
              "State                0\n",
              "Zip                  0\n",
              "NoEmp                0\n",
              "NewExist             0\n",
              "Is_CreatedJob        0\n",
              "Is_RetainedJob       0\n",
              "Is_Franchised        0\n",
              "UrbanRural           0\n",
              "RevLineCr            0\n",
              "LowDoc               0\n",
              "DisbursementGross    0\n",
              "BalanceGross         0\n",
              "GrAppv               0\n",
              "SBA_Appv             0\n",
              "MIS_Status           0\n",
              "Sector_name          0\n",
              "Sector_rate          0\n",
              "State_rate           0\n",
              "Portion_SBA_Bank     0\n",
              "dtype: int64"
            ]
          },
          "metadata": {},
          "execution_count": 78
        }
      ],
      "source": [
        "# again check for missing values \n",
        "dataframe.isna().sum()"
      ]
    },
    {
      "cell_type": "code",
      "execution_count": 79,
      "id": "e09ec748",
      "metadata": {
        "colab": {
          "base_uri": "https://localhost:8080/"
        },
        "id": "e09ec748",
        "outputId": "30c9427f-0d0f-4a6f-bdd0-2cd1f52230ac"
      },
      "outputs": [
        {
          "output_type": "execute_result",
          "data": {
            "text/plain": [
              "90015    713\n",
              "10001    684\n",
              "90010    572\n",
              "93401    528\n",
              "33166    479\n",
              "        ... \n",
              "22949      1\n",
              "35231      1\n",
              "32307      1\n",
              "16749      1\n",
              "98770      1\n",
              "Name: Zip, Length: 29545, dtype: int64"
            ]
          },
          "metadata": {},
          "execution_count": 79
        }
      ],
      "source": [
        "dataframe.Zip.value_counts()"
      ]
    },
    {
      "cell_type": "code",
      "execution_count": 80,
      "id": "e18997a6",
      "metadata": {
        "id": "e18997a6"
      },
      "outputs": [],
      "source": [
        "### Drop use less features\n",
        "dataframe =dataframe.drop(['City','Zip'],axis=1)"
      ]
    },
    {
      "cell_type": "code",
      "execution_count": 81,
      "id": "55549ac7",
      "metadata": {
        "id": "55549ac7"
      },
      "outputs": [],
      "source": [
        "# label encoding the categorical features\n",
        "cat_encoders = {}\n",
        "le1 = LabelEncoder()\n",
        "le1.fit(dataframe['State'])\n",
        "dataframe['State'] = le1.transform(dataframe['State'])\n",
        "cat_encoders['State'] = [le1,\"le\"]\n",
        "\n",
        "#dataframe['Sector_name'] = le.fit_transform(dataframe['Sector_name'])\n",
        "\n",
        "le2 = LabelEncoder()\n",
        "le2.fit(dataframe['Sector_name'])\n",
        "dataframe['Sector_name'] = le2.transform(dataframe['Sector_name'])\n",
        "cat_encoders['Sector_name'] = [le2,\"le\"]"
      ]
    },
    {
      "cell_type": "code",
      "execution_count": 82,
      "id": "63842281",
      "metadata": {
        "colab": {
          "base_uri": "https://localhost:8080/"
        },
        "id": "63842281",
        "outputId": "f3b5e3a2-f234-4d19-b291-1222db2bcce6"
      },
      "outputs": [
        {
          "output_type": "execute_result",
          "data": {
            "text/plain": [
              "{'Sector_name': [LabelEncoder(), 'le'], 'State': [LabelEncoder(), 'le']}"
            ]
          },
          "metadata": {},
          "execution_count": 82
        }
      ],
      "source": [
        "cat_encoders "
      ]
    },
    {
      "cell_type": "code",
      "execution_count": 83,
      "id": "f0d91b2e",
      "metadata": {
        "id": "f0d91b2e"
      },
      "outputs": [],
      "source": [
        "# seperating the features from class label\n",
        "X = dataframe.drop('MIS_Status',axis=1)\n",
        "y = dataframe['MIS_Status']"
      ]
    },
    {
      "cell_type": "code",
      "execution_count": 84,
      "id": "850ed826",
      "metadata": {
        "colab": {
          "base_uri": "https://localhost:8080/",
          "height": 266
        },
        "id": "850ed826",
        "outputId": "8ff62d72-e260-4ec4-c8d0-07de1c24d54c"
      },
      "outputs": [
        {
          "output_type": "execute_result",
          "data": {
            "text/plain": [
              "<matplotlib.axes._subplots.AxesSubplot at 0x7fa9ddc6d4d0>"
            ]
          },
          "metadata": {},
          "execution_count": 84
        },
        {
          "output_type": "display_data",
          "data": {
            "text/plain": [
              "<Figure size 432x288 with 1 Axes>"
            ],
            "image/png": "[encoded data removed]"
          },
          "metadata": {}
        }
      ],
      "source": [
        "y.value_counts().plot.pie()"
      ]
    },
    {
      "cell_type": "markdown",
      "id": "e227c307",
      "metadata": {
        "id": "e227c307"
      },
      "source": [
        " The dataset is imbalanced we have to balance the dataset"
      ]
    },
    {
      "cell_type": "code",
      "execution_count": 85,
      "id": "259eb5dd",
      "metadata": {
        "id": "259eb5dd"
      },
      "outputs": [],
      "source": [
        "#scaler = StandardScaler()\n",
        "#X_scaled = scaler.fit_transform(X)\n",
        "#X_scaled = pd.DataFrame(X_scaled,columns = X.columns)"
      ]
    },
    {
      "cell_type": "code",
      "execution_count": null,
      "id": "2258c490",
      "metadata": {
        "colab": {
          "base_uri": "https://localhost:8080/"
        },
        "id": "2258c490",
        "outputId": "7a079aab-3eb6-44c2-b24f-e9c8b959dc09"
      },
      "outputs": [
        {
          "output_type": "stream",
          "name": "stdout",
          "text": [
            "Before OverSampling, counts of label '1': 119205\n",
            "Before OverSampling, counts of label '0': 486002 \n",
            "\n"
          ]
        }
      ],
      "source": [
        "# balancing the dataset\n",
        "print(\"Before OverSampling, counts of label '1': {}\".format(sum(y == 1)))\n",
        "print(\"Before OverSampling, counts of label '0': {} \\n\".format(sum(y == 0)))\n",
        "\n",
        "# Synthetic Minority Over Sampling Technique\n",
        "sm = SMOTE(random_state=1)\n",
        "X_over, y_over = sm.fit_resample(X, y)\n",
        "\n",
        "\n",
        "print(\"After OverSampling, counts of label '1': {}\".format(sum(y_over == 1)))\n",
        "print(\"After OverSampling, counts of label '0': {} \\n\".format(sum(y_over == 0)))\n",
        "\n",
        "\n",
        "print(\"After OverSampling, the shape of train_X: {}\".format(X_over.shape))\n",
        "print(\"After OverSampling, the shape of train_y: {} \\n\".format(y_over.shape))"
      ]
    },
    {
      "cell_type": "code",
      "execution_count": 36,
      "id": "542b51c2",
      "metadata": {
        "id": "542b51c2"
      },
      "outputs": [],
      "source": [
        "# split dataset for train and test\n",
        "X_train, X_test, y_train, y_test = train_test_split(X_over, y_over, test_size=0.3)"
      ]
    },
    {
      "cell_type": "markdown",
      "id": "ddfb1a90",
      "metadata": {
        "id": "ddfb1a90"
      },
      "source": [
        "# Machine Learning Models"
      ]
    },
    {
      "cell_type": "code",
      "execution_count": null,
      "id": "854bd3a0",
      "metadata": {
        "id": "854bd3a0"
      },
      "outputs": [],
      "source": [
        "# defining a function to compute different metrics to check performance of a classification model built using sklearn\n",
        "def model_performance_classification_sklearn(model, predictors, target):\n",
        "    \"\"\"\n",
        "    Function to compute different metrics to check classification model performance\n",
        "\n",
        "    model: classifier\n",
        "    predictors: independent variables\n",
        "    target: dependent variable\n",
        "    \"\"\"\n",
        "\n",
        "    # predicting using the independent variables\n",
        "    pred = model.predict(predictors)\n",
        "\n",
        "    acc = accuracy_score(target, pred)  # to compute Accuracy\n",
        "    recall = recall_score(target, pred)  # to compute Recall\n",
        "    precision = precision_score(target, pred)  # to compute Precision\n",
        "    f1 = f1_score(target, pred)  # to compute F1-score\n",
        "\n",
        "    # creating a dataframe of metrics\n",
        "    dataframe_perf = pd.DataFrame(\n",
        "        {\"Accuracy\": acc, \"Recall\": recall, \"Precision\": precision, \"F1\": f1},\n",
        "        index=[0],\n",
        "    )\n",
        "\n",
        "    return dataframe_perf"
      ]
    },
    {
      "cell_type": "code",
      "execution_count": null,
      "id": "8b567d41",
      "metadata": {
        "id": "8b567d41"
      },
      "outputs": [],
      "source": [
        "def confusion_matrix_sklearn(model, predictors, target):\n",
        "    \"\"\"\n",
        "    To plot the confusion_matrix with percentages\n",
        "\n",
        "    model: classifier\n",
        "    predictors: independent variables\n",
        "    target: dependent variable\n",
        "    \"\"\"\n",
        "    y_pred = model.predict(predictors)\n",
        "    cm = confusion_matrix(target, y_pred)\n",
        "    labels = np.asarray(\n",
        "        [\n",
        "            [\"{0:0.0f}\".format(item) + \"\\n{0:.2%}\".format(item / cm.flatten().sum())]\n",
        "            for item in cm.flatten()\n",
        "        ]\n",
        "    ).reshape(2, 2)\n",
        "\n",
        "    plt.figure(figsize=(6, 4))\n",
        "    sns.heatmap(cm, annot=labels, fmt=\"\")\n",
        "    plt.ylabel(\"True label\")\n",
        "    plt.xlabel(\"Predicted label\")"
      ]
    },
    {
      "cell_type": "markdown",
      "id": "57993ef1",
      "metadata": {
        "id": "57993ef1"
      },
      "source": [
        "### Random Forest Model"
      ]
    },
    {
      "cell_type": "code",
      "execution_count": null,
      "id": "b3fcc392",
      "metadata": {
        "id": "b3fcc392"
      },
      "outputs": [],
      "source": [
        "# Fitting the model\n",
        "rf_estimator = RandomForestClassifier(\n",
        "    random_state=1\n",
        ")  ## Complete the code to define random forest with random state = 1 and class_weight = balanced\n",
        "rf_estimator.fit(\n",
        "    X_train, y_train\n",
        ")"
      ]
    },
    {
      "cell_type": "code",
      "execution_count": null,
      "id": "d634a6ab",
      "metadata": {
        "id": "d634a6ab"
      },
      "outputs": [],
      "source": [
        "# confusion matrix for train data\n",
        "confusion_matrix_sklearn(\n",
        "    rf_estimator, X_train, y_train\n",
        ")"
      ]
    },
    {
      "cell_type": "code",
      "execution_count": null,
      "id": "60e5bff7",
      "metadata": {
        "id": "60e5bff7"
      },
      "outputs": [],
      "source": [
        "# Calculating different metrics for train data\n",
        "rf_estimator_model_train_perf = model_performance_classification_sklearn(\n",
        "    rf_estimator, X_train, y_train\n",
        ")\n",
        "rf_estimator_model_train_perf"
      ]
    },
    {
      "cell_type": "code",
      "execution_count": null,
      "id": "fb5cba13",
      "metadata": {
        "id": "fb5cba13"
      },
      "outputs": [],
      "source": [
        "# confusion matrix for test data\n",
        "confusion_matrix_sklearn(\n",
        "    rf_estimator, X_test, y_test\n",
        ")"
      ]
    },
    {
      "cell_type": "code",
      "execution_count": null,
      "id": "cf1ff017",
      "metadata": {
        "id": "cf1ff017"
      },
      "outputs": [],
      "source": [
        "rf_estimator_model_test_perf = model_performance_classification_sklearn(\n",
        "    rf_estimator, X_test, y_test\n",
        ")  \n",
        "rf_estimator_model_test_perf"
      ]
    },
    {
      "cell_type": "markdown",
      "id": "2f32a35f",
      "metadata": {
        "id": "2f32a35f"
      },
      "source": [
        "# Logistic Regression Model"
      ]
    },
    {
      "cell_type": "code",
      "execution_count": null,
      "id": "007ba9e1",
      "metadata": {
        "id": "007ba9e1"
      },
      "outputs": [],
      "source": [
        "lr_classifier = LogisticRegression() \n",
        "lr_classifier.fit(\n",
        "    X_train, y_train\n",
        ")  "
      ]
    },
    {
      "cell_type": "code",
      "execution_count": null,
      "id": "878fc8dc",
      "metadata": {
        "id": "878fc8dc"
      },
      "outputs": [],
      "source": [
        "# confusion matrix for train data\n",
        "confusion_matrix_sklearn(\n",
        "    lr_classifier, X_train, y_train\n",
        ")"
      ]
    },
    {
      "cell_type": "code",
      "execution_count": null,
      "id": "d0aca2d4",
      "metadata": {
        "id": "d0aca2d4"
      },
      "outputs": [],
      "source": [
        "# Calculating different metrics for train data\n",
        "lr_classifier_model_train_perf = model_performance_classification_sklearn(\n",
        "    lr_classifier, X_train, y_train\n",
        ")\n",
        "lr_classifier_model_train_perf"
      ]
    },
    {
      "cell_type": "code",
      "execution_count": null,
      "id": "81ce93ce",
      "metadata": {
        "id": "81ce93ce"
      },
      "outputs": [],
      "source": [
        "# confusion matrix for test data\n",
        "confusion_matrix_sklearn(lr_classifier, X_test, y_test)"
      ]
    },
    {
      "cell_type": "code",
      "execution_count": null,
      "id": "c5148c81",
      "metadata": {
        "id": "c5148c81"
      },
      "outputs": [],
      "source": [
        "# Calculating different metrics for train data\n",
        "lr_classifier_model_test_perf = model_performance_classification_sklearn(\n",
        "    lr_classifier, X_test, y_test\n",
        ")\n",
        "lr_classifier_model_test_perf"
      ]
    },
    {
      "cell_type": "code",
      "execution_count": null,
      "id": "8489bca7",
      "metadata": {
        "id": "8489bca7"
      },
      "outputs": [],
      "source": [
        "# Feature Importance\n",
        "feature_names = X.columns\n",
        "importances = rf_estimator.feature_importances_\n",
        "indices = np.argsort(importances)\n",
        "\n",
        "plt.figure(figsize=(12, 12))\n",
        "plt.title(\"Feature Importances\")\n",
        "plt.barh(range(len(indices)), importances[indices], color=\"violet\", align=\"center\")\n",
        "plt.yticks(range(len(indices)), [feature_names[i] for i in indices])\n",
        "plt.xlabel(\"Relative Importance\")\n",
        "plt.show()"
      ]
    },
    {
      "cell_type": "code",
      "execution_count": null,
      "id": "104a6917",
      "metadata": {
        "id": "104a6917"
      },
      "outputs": [],
      "source": [
        "import pickle\n",
        "# saving model and encoders\n",
        "log_reg_file = open(\"Log_reg_model.pkl\", \"wb\")\n",
        "rf_file = open(\"rf_model.pkl\", \"wb\")\n",
        "encoders_file = open(\"encoders.pkl\", \"wb\")\n",
        "pickle.dump(obj=lr_classifier, file=log_reg_file)\n",
        "pickle.dump(obj=rf_estimator, file=rf_file)\n",
        "pickle.dump(obj=cat_encoders, file=encoders_file)\n",
        "log_reg_file.close()\n",
        "encoders_file.close()"
      ]
    },
    {
      "cell_type": "code",
      "execution_count": null,
      "id": "08850fb3",
      "metadata": {
        "id": "08850fb3"
      },
      "outputs": [],
      "source": [
        ""
      ]
    }
  ],
  "metadata": {
    "kernelspec": {
      "display_name": "Python 3 (ipykernel)",
      "language": "python",
      "name": "python3"
    },
    "language_info": {
      "codemirror_mode": {
        "name": "ipython",
        "version": 3
      },
      "file_extension": ".py",
      "mimetype": "text/x-python",
      "name": "python",
      "nbconvert_exporter": "python",
      "pygments_lexer": "ipython3",
      "version": "3.9.7"
    },
    "colab": {
      "name": "CLASSIFICATION_KXT210002_KEERTHI_TIRUMALIKA.ipynb",
      "provenance": []
    }
  },
  "nbformat": 4,
  "nbformat_minor": 5
}